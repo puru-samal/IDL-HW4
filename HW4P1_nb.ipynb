{
 "cells": [
  {
   "cell_type": "markdown",
   "metadata": {},
   "source": [
    "# Imports"
   ]
  },
  {
   "cell_type": "code",
   "execution_count": 1,
   "metadata": {},
   "outputs": [
    {
     "name": "stdout",
     "output_type": "stream",
     "text": [
      "Using device: cpu\n"
     ]
    }
   ],
   "source": [
    "from hw4lib.data import (\n",
    "    H4Tokenizer,\n",
    "    LMDataset,\n",
    "    verify_dataloader\n",
    ")\n",
    "from hw4lib.model import (\n",
    "    CausalMask,\n",
    "    PadMask,\n",
    "    PositionalEncoding,\n",
    "    DecoderOnlyTransformer\n",
    ")\n",
    "from hw4lib.trainers import (\n",
    "    LMTrainer,\n",
    ")\n",
    "from torch.utils.data import DataLoader\n",
    "import matplotlib.pyplot as plt\n",
    "import yaml\n",
    "import gc\n",
    "import torch\n",
    "from torchinfo import summary\n",
    "import os\n",
    "import json\n",
    "import tarfile\n",
    "import shutil\n",
    "device = \"cuda\" if torch.cuda.is_available() else \"cpu\"\n",
    "print(f\"Using device: {device}\")"
   ]
  },
  {
   "cell_type": "markdown",
   "metadata": {},
   "source": [
    "# Implementations\n",
    "- `NOTE`: All of these implementations have detailed specification, implementation details, and hints in their respective source files. Make sure to read all of them in their entirety to understand the implementation details!"
   ]
  },
  {
   "cell_type": "markdown",
   "metadata": {},
   "source": [
    "## MyTorch Implementations\n",
    "- `TODO`: Copy-paste your implementation of `Linear` from previous assignments into `mytorch/nn/linear.py`.\n",
    "- `TODO`: Implement the generic `Softmax` activation function in `mytorch/nn/activation.py`.\n",
    "- `TODO`: Implement the `ScaledDotProductAttention` class in `mytorch/nn/scaled_dot_product_attention.py`.\n",
    "- `TODO`: Implement the `MultiHeadAttention` class in `mytorch/nn/multi_head_attention.py`.\n",
    "- `TODO`: Run the cell below to check your implementation.\n"
   ]
  },
  {
   "cell_type": "code",
   "execution_count": 2,
   "metadata": {},
   "outputs": [
    {
     "name": "stdout",
     "output_type": "stream",
     "text": [
      "\n",
      "\u001b[95m================================================================================\n",
      "Running tests for category: Softmax\n",
      "--------------------------------------------------------------------------------\u001b[0m\n",
      "\n",
      "\u001b[94m[01/01]    Running:  Softmax Tests\u001b[0m\n",
      "Testing Softmax ...\n",
      "Test Passed: Softmax Forward\n",
      "Test Passed: Softmax Backward\n",
      "\u001b[92m[01/01]    PASSED:   Softmax Tests\u001b[0m\n",
      "\n",
      "\n",
      "\u001b[95m================================================================================\n",
      "Running tests for category: ScaledDotProductAttention\n",
      "--------------------------------------------------------------------------------\u001b[0m\n",
      "\n",
      "\u001b[94m[01/01]    Running:  ScaledDotProductAttention Tests\u001b[0m\n",
      "Testing Scaled Dot Product Attention ...\n",
      "Test Passed: Scaled Dot Product Attention Forward\n",
      "Test Passed: Scaled Dot Product Attention Backward\n",
      "\u001b[92m[01/01]    PASSED:   ScaledDotProductAttention Tests\u001b[0m\n",
      "\n",
      "\n",
      "\u001b[95m================================================================================\n",
      "Running tests for category: MultiHeadAttention\n",
      "--------------------------------------------------------------------------------\u001b[0m\n",
      "\n",
      "\u001b[94m[01/01]    Running:  MultiHeadAttention Tests\u001b[0m\n",
      "Testing Multi Head Attention ...\n",
      "Test Passed: Multi Head Attention Forward\n",
      "Test Passed: Multi Head Attention Backward\n",
      "\u001b[92m[01/01]    PASSED:   MultiHeadAttention Tests\u001b[0m\n",
      "\n",
      "\n",
      "\u001b[95m================================================================================\n",
      "                                  Test Summary                                  \n",
      "================================================================================\u001b[0m\n",
      "\u001b[93mCategory:    Softmax                       \n",
      "Results:     1/1 tests passed (100.0%)\u001b[0m\n",
      "\u001b[93mCategory:    ScaledDotProductAttention     \n",
      "Results:     1/1 tests passed (100.0%)\u001b[0m\n",
      "\u001b[93mCategory:    MultiHeadAttention            \n",
      "Results:     1/1 tests passed (100.0%)\u001b[0m\n"
     ]
    }
   ],
   "source": [
    "!python -m tests.test_mytorch"
   ]
  },
  {
   "cell_type": "markdown",
   "metadata": {},
   "source": [
    "## Dataset Implementation\n",
    "- `TODO`: First, Familiarize yourself with the `tokenize`, `encode`, and `decode` methods of the `H4Tokenizer` class in `hw4lib/data/tokenizer.py`. You will need to make use of these methods in both `HW4P1` and `HW4P2` both in the dataset implementations and during decoding. \n",
    "- `TODO`: Implement the `LMDataset` class in `hw4lib/data/lm_dataset.py`. \n",
    "- You will have to implement parts of `__init__` and completely implement the `__len__`, `__getitem__` and `collate_fn` methods. \n",
    "- `TODO`: Then run the cell below to check your implementation.\n"
   ]
  },
  {
   "cell_type": "code",
   "execution_count": 3,
   "metadata": {},
   "outputs": [
    {
     "name": "stdout",
     "output_type": "stream",
     "text": [
      "Loading transcripts for text-for-LM/train-text partition...\n",
      "100%|███████████████████████████████████████| 267/267 [00:00<00:00, 3242.34it/s]\n",
      "\n",
      "\u001b[95m================================================================================\n",
      "Running tests for category: LMDataset\n",
      "--------------------------------------------------------------------------------\u001b[0m\n",
      "\n",
      "\u001b[94m[01/01]    Running:  Test the LMDataset class\u001b[0m\n",
      "Testing __init__ method ...\n",
      "Test Passed: Text files are sorted.\n",
      "Test Passed: Shifted and golden transcripts are aligned.\n",
      "Test Passed: All transcripts are decoded correctly after removing SOS and EOS tokens.\n",
      "Testing __getitem__ method ...\n",
      "Test Passed: SOS and EOS tokens are correctly placed for samples.\n",
      "Test Passed: All transcripts are decoded correctly after removing SOS and EOS tokens.\n",
      "Testing collate_fn method ...\n",
      "Test Passed: Transcript batch has correct dimensions (2D tensor).\n",
      "Test Passed: Transcript lengths are consistent with the batch size.\n",
      "Test Passed: All sequences are padded to the same length.\n",
      "Test Passed: Padding values are correct.\n",
      "Test Passed: Batch transcripts are of correct data type.\n",
      "\u001b[92m[01/01]    PASSED:   Test the LMDataset class\u001b[0m\n",
      "\n",
      "\n",
      "\u001b[95m================================================================================\n",
      "                                  Test Summary                                  \n",
      "================================================================================\u001b[0m\n",
      "\u001b[93mCategory:    LMDataset                     \n",
      "Results:     1/1 tests passed (100.0%)\u001b[0m\n"
     ]
    }
   ],
   "source": [
    "!python -m tests.test_dataset_lm"
   ]
  },
  {
   "cell_type": "markdown",
   "metadata": {},
   "source": [
    "## Model Implementations\n",
    "#### Overview:\n",
    "- `TODO`: Implement the `CausalMask` and `PadMask` functions in `hw4lib/modules/masks.py`.\n",
    "- `TODO`: Implement the `PositionalEncoding` class in `hw4lib/model/positional_encoding.py`.\n",
    "- `TODO`: Implement the `SelfAttentionLayer` and `FeedForwardLayer` classes in `hw4lib/model/sublayers.py`.\n",
    "- `TODO`: Implement the `SelfAttentionDecoderLayer` class in `hw4lib/model/decoder_layers.py`.\n",
    "- `TODO`: Implement the `DecoderOnlyTransformer` class in `hw4lib/model/transformers.py`.\n",
    "- `TODO`: Then run the cell below to check your implementation.\n",
    "- `NOTE`: Besides the `DecoderOnlyTransformer` (P1 mandatory, P2 optional), you will use all of the above implementations in both `HW4P1` and `HW4P2`!"
   ]
  },
  {
   "cell_type": "markdown",
   "metadata": {},
   "source": [
    "### Masks \n",
    "- `TODO`: Implement the `PadMask` and `CausalMask` functions in `hw4lib/modules/masks.py`.\n",
    "- `TODO`: Then run the cell below to check your implementation.\n",
    "- `NOTE`: You will need to make use of these masks in both `HW4P1` and `HW4P2`."
   ]
  },
  {
   "cell_type": "markdown",
   "metadata": {},
   "source": [
    "#### Causal Mask"
   ]
  },
  {
   "cell_type": "code",
   "execution_count": 4,
   "metadata": {},
   "outputs": [
    {
     "name": "stdout",
     "output_type": "stream",
     "text": [
      "\n",
      "\u001b[95m================================================================================\n",
      "Running tests for category: CausalMask\n",
      "--------------------------------------------------------------------------------\u001b[0m\n",
      "\n",
      "\u001b[94m[01/01]    Running:  Test the causal mask generation\u001b[0m\n",
      "Testing Causal Mask ...\n",
      "Test Passed: Causal mask generation is correct.\n",
      "\u001b[92m[01/01]    PASSED:   Test the causal mask generation\u001b[0m\n",
      "\n",
      "\n",
      "\u001b[95m================================================================================\n",
      "                                  Test Summary                                  \n",
      "================================================================================\u001b[0m\n",
      "\u001b[93mCategory:    CausalMask                    \n",
      "Results:     1/1 tests passed (100.0%)\u001b[0m\n"
     ]
    }
   ],
   "source": [
    "!python -m tests.test_mask_causal"
   ]
  },
  {
   "cell_type": "markdown",
   "metadata": {},
   "source": [
    "#### Padding Mask"
   ]
  },
  {
   "cell_type": "code",
   "execution_count": 5,
   "metadata": {},
   "outputs": [
    {
     "name": "stdout",
     "output_type": "stream",
     "text": [
      "\n",
      "\u001b[95m================================================================================\n",
      "Running tests for category: PaddingMask\n",
      "--------------------------------------------------------------------------------\u001b[0m\n",
      "\n",
      "\u001b[94m[01/01]    Running:  Test the padding mask generation\u001b[0m\n",
      "Testing Padding Mask ...\n",
      "Test Passed: Padding mask generation is correct.\n",
      "\u001b[92m[01/01]    PASSED:   Test the padding mask generation\u001b[0m\n",
      "\n",
      "\n",
      "\u001b[95m================================================================================\n",
      "                                  Test Summary                                  \n",
      "================================================================================\u001b[0m\n",
      "\u001b[93mCategory:    PaddingMask                   \n",
      "Results:     1/1 tests passed (100.0%)\u001b[0m\n"
     ]
    }
   ],
   "source": [
    "!python -m tests.test_mask_padding"
   ]
  },
  {
   "cell_type": "markdown",
   "metadata": {},
   "source": [
    "#### Optional: Visualize your Masks"
   ]
  },
  {
   "cell_type": "code",
   "execution_count": 6,
   "metadata": {},
   "outputs": [
    {
     "data": {
      "image/png": "[encoded data removed]",
      "text/plain": [
       "<Figure size 1200x400 with 3 Axes>"
      ]
     },
     "metadata": {},
     "output_type": "display_data"
    }
   ],
   "source": [
    "# Dummy data    \n",
    "_d_model   = 64\n",
    "_x         = torch.zeros(4, 20, _d_model)\n",
    "_x_len     = torch.tensor([5, 15, 10, 20])\n",
    "_x_causal  = CausalMask(_x)\n",
    "_x_padding = PadMask(_x, _x_len)\n",
    "\n",
    "# Create figure with two subplots side by side\n",
    "fig, mask_axs = plt.subplots(1, 2, figsize=(12, 4))\n",
    "\n",
    "# Plot masks\n",
    "masks_and_titles = [\n",
    "    (_x_padding, \"Padding Mask\"),\n",
    "    (_x_causal, \"Causal Mask\")\n",
    "]\n",
    "\n",
    "# Plot each mask\n",
    "images = []\n",
    "for i, (mask, title) in enumerate(masks_and_titles):\n",
    "    im = mask_axs[i].imshow(mask, cmap=\"gray\", aspect='auto')\n",
    "    mask_axs[i].set_title(title, fontsize=8)\n",
    "    images.append(im)\n",
    "\n",
    "# Add colorbar at the bottom\n",
    "fig.subplots_adjust(bottom=0.2)  # Make space for colorbar\n",
    "cbar_ax = fig.add_axes([0.15, 0.1, 0.7, 0.02])  # [left, bottom, width, height]\n",
    "cbar = plt.colorbar(images[0], cax=cbar_ax, orientation='horizontal')\n",
    "cbar.ax.set_xlabel('Mask Values', labelpad=5, fontsize=8)\n",
    "cbar.set_ticks([0, 1])\n",
    "cbar.set_ticklabels(['Attend (0)', 'Ignore/Mask (1)'])\n",
    "cbar.ax.tick_params(labelsize=6)\n",
    "\n",
    "plt.show()"
   ]
  },
  {
   "cell_type": "markdown",
   "metadata": {},
   "source": [
    "### Positional Encoding\n",
    "- `TODO`: Implement the `PositionalEncoding` class in `hw4lib/model/positional_encoding.py`.\n",
    "- `TODO`: Then run the cell below to check your implementation.\n",
    "- `NOTE`: You will need to make use of this positional encoding in both `HW4P1` and `HW4P2`."
   ]
  },
  {
   "cell_type": "code",
   "execution_count": 9,
   "metadata": {},
   "outputs": [
    {
     "name": "stdout",
     "output_type": "stream",
     "text": [
      "\n",
      "\u001b[95m================================================================================\n",
      "Running tests for category: PositionalEncoding\n",
      "--------------------------------------------------------------------------------\u001b[0m\n",
      "\n",
      "\u001b[94m[01/01]    Running:  Test the positional encoding generation\u001b[0m\n",
      "Testing Positional Encoding Shape ...\n",
      "Test Passed: Positional Encoding Shape is Correct\n",
      "Testing Positional Encoding Values ...\n",
      "Test Passed: Positional Encoding Values are Correct\n",
      "Testing Positional Encoding Forward ...\n",
      "Test Passed: Positional Encoding Forward is Correct\n",
      "\u001b[92m[01/01]    PASSED:   Test the positional encoding generation\u001b[0m\n",
      "\n",
      "\n",
      "\u001b[95m================================================================================\n",
      "                                  Test Summary                                  \n",
      "================================================================================\u001b[0m\n",
      "\u001b[93mCategory:    PositionalEncoding            \n",
      "Results:     1/1 tests passed (100.0%)\u001b[0m\n"
     ]
    }
   ],
   "source": [
    "!python -m tests.test_positional_encoding"
   ]
  },
  {
   "cell_type": "markdown",
   "metadata": {},
   "source": [
    "#### Optional: Visualize your Positional Encoding"
   ]
  },
  {
   "cell_type": "code",
   "execution_count": 10,
   "metadata": {},
   "outputs": [
    {
     "data": {
      "image/png": "[encoded data removed]",
      "text/plain": [
       "<Figure size 1200x400 with 3 Axes>"
      ]
     },
     "metadata": {},
     "output_type": "display_data"
    }
   ],
   "source": [
    "# Create sample positional encoding\n",
    "d_model = 64\n",
    "max_len = 100\n",
    "pos_encoding = PositionalEncoding(d_model=d_model, max_len=max_len)\n",
    "pe = pos_encoding.pe.squeeze(0).numpy()  # Remove batch dimension and convert to numpy\n",
    "\n",
    "# Create figure with two subplots side by side\n",
    "fig, (ax1, ax2) = plt.subplots(1, 2, figsize=(12, 4))\n",
    "\n",
    "# Plot 1: Positional encoding matrix\n",
    "im = ax1.imshow(pe, aspect='auto', cmap='RdBu', \n",
    "                extent=[0, d_model, max_len, 0])  # Flip y-axis to show position top-to-bottom\n",
    "plt.colorbar(im, ax=ax1, label='Encoding Value')\n",
    "ax1.set_xlabel('Dimension')\n",
    "ax1.set_ylabel('Position')\n",
    "ax1.set_title('Positional Encoding Matrix')\n",
    "ax1.grid(False)\n",
    "\n",
    "# Plot 2: Sinusoidal patterns\n",
    "dimensions = [0, 15, 31, 47, 63]  # Plot first few dimensions\n",
    "for dim in dimensions:\n",
    "    ax2.plot(pe[:, dim], label=f'dim {dim}')\n",
    "ax2.set_xlabel('Position')\n",
    "ax2.set_ylabel('Encoding Value')\n",
    "ax2.set_title('Sinusoidal Patterns for Different Dimensions')\n",
    "ax2.legend()\n",
    "ax2.grid(True)\n",
    "\n",
    "# Adjust layout to prevent overlap\n",
    "plt.tight_layout()\n",
    "plt.show()"
   ]
  },
  {
   "cell_type": "markdown",
   "metadata": {},
   "source": [
    "### Transformer Sublayers\n",
    "- `TODO`: Implement the `SelfAttentionLayer`, and `FeedForwardLayer` classes in `hw4lib/model/sublayers.py`.\n",
    "- `TODO`: Then run the cell below to check your implementation.\n",
    "- `NOTE`: You will need to make use of all of these sublayers in both `HW4P1` and `HW4P2`."
   ]
  },
  {
   "cell_type": "code",
   "execution_count": 11,
   "metadata": {},
   "outputs": [
    {
     "name": "stdout",
     "output_type": "stream",
     "text": [
      "\n",
      "\u001b[95m================================================================================\n",
      "Running tests for category: SelfAttentionLayer\n",
      "--------------------------------------------------------------------------------\u001b[0m\n",
      "\n",
      "\u001b[94m[01/01]    Running:  Test the self-attention sublayer\u001b[0m\n",
      "Testing initialization ...\n",
      "Test Passed: All layers exist and are instantiated correctly\n",
      "Testing forward shapes ...\n",
      "Test Passed: Forward pass returns the correct shapes\n",
      "Testing padding mask behaviour ...\n",
      "Testing padding mask behaviour ...\n",
      "Test Passed: Padding mask is applied correctly\n",
      "Testing self-attention mask behaviour ...\n",
      "Test Passed: Self-attention mask is applied correctly\n",
      "Testing self-attention residual ...\n",
      "Test Passed: Residual connection is applied correctly\n",
      "\u001b[92m[01/01]    PASSED:   Test the self-attention sublayer\u001b[0m\n",
      "\n",
      "\n",
      "\u001b[95m================================================================================\n",
      "                                  Test Summary                                  \n",
      "================================================================================\u001b[0m\n",
      "\u001b[93mCategory:    SelfAttentionLayer            \n",
      "Results:     1/1 tests passed (100.0%)\u001b[0m\n"
     ]
    }
   ],
   "source": [
    "!python -m tests.test_sublayer_selfattention"
   ]
  },
  {
   "cell_type": "code",
   "execution_count": 12,
   "metadata": {},
   "outputs": [
    {
     "name": "stdout",
     "output_type": "stream",
     "text": [
      "\n",
      "\u001b[95m================================================================================\n",
      "Running tests for category: FeedForwardLayer\n",
      "--------------------------------------------------------------------------------\u001b[0m\n",
      "\n",
      "\u001b[94m[01/01]    Running:  Test the feedforward sublayer\u001b[0m\n",
      "Testing initialization ...\n",
      "Test Passed: All layers exist and match reference implementation\n",
      "Testing forward shapes ...\n",
      "Test Passed: Forward pass returns correct shapes for various input dimensions\n",
      "Testing feed-forward network behavior ...\n",
      "Test Passed: Feed-forward network transforms input appropriately\n",
      "Testing residual connection ...\n",
      "Test Passed: Residual connection is working correctly\n",
      "Testing layer normalization ...\n",
      "Test Passed: Layer normalization is being applied correctly\n",
      "Testing forward pass order ...\n",
      "Test Passed: Forward pass operations are in correct order\n",
      "\u001b[92m[01/01]    PASSED:   Test the feedforward sublayer\u001b[0m\n",
      "\n",
      "\n",
      "\u001b[95m================================================================================\n",
      "                                  Test Summary                                  \n",
      "================================================================================\u001b[0m\n",
      "\u001b[93mCategory:    FeedForwardLayer              \n",
      "Results:     1/1 tests passed (100.0%)\u001b[0m\n"
     ]
    }
   ],
   "source": [
    "!python -m tests.test_sublayer_feedforward"
   ]
  },
  {
   "cell_type": "markdown",
   "metadata": {},
   "source": [
    "### Transformer Self-Attention Decoder Layer\n",
    "- `TODO`: Implement the `SelfAttentionDecoderLayer` class in `hw4lib/model/decoder_layers.py`.\n",
    "- `TODO`: Then run the cell below to check your implementation.\n",
    "- `NOTE`: You will need to make use of this sublayer in `HW4P2`.\n",
    "\n",
    "\n"
   ]
  },
  {
   "cell_type": "code",
   "execution_count": 13,
   "metadata": {},
   "outputs": [
    {
     "name": "stdout",
     "output_type": "stream",
     "text": [
      "\n",
      "\u001b[95m================================================================================\n",
      "Running tests for category: SelfAttentionDecoderLayer\n",
      "--------------------------------------------------------------------------------\u001b[0m\n",
      "\n",
      "\u001b[94m[01/01]    Running:  Test the self-attention decoder layer\u001b[0m\n",
      "Testing initialization ...\n",
      "Test Passed: All sublayers exist and are initialized correctly\n",
      "Testing forward shapes ...\n",
      "Test Passed: Forward shapes are as expected\n",
      "Testing sublayer interaction ...\n",
      "Test Passed: Sublayers interact correctly\n",
      "\u001b[92m[01/01]    PASSED:   Test the self-attention decoder layer\u001b[0m\n",
      "\n",
      "\n",
      "\u001b[95m================================================================================\n",
      "                                  Test Summary                                  \n",
      "================================================================================\u001b[0m\n",
      "\u001b[93mCategory:    SelfAttentionDecoderLayer     \n",
      "Results:     1/1 tests passed (100.0%)\u001b[0m\n"
     ]
    }
   ],
   "source": [
    "!python -m tests.test_decoderlayer_selfattention"
   ]
  },
  {
   "cell_type": "markdown",
   "metadata": {},
   "source": [
    "### Decoder-Only Transformer\n",
    "\n",
    "- `TODO`: Implement the  `DecoderOnlyTransformer` class in `hw4lib/model/transformers.py`.\n",
    "- `TODO`: Then run the cell below to check your implementation.\n",
    "- `NOTE`: You will need to make use of in `HW4P1` and optionally `HW4P2`."
   ]
  },
  {
   "cell_type": "code",
   "execution_count": 14,
   "metadata": {},
   "outputs": [
    {
     "name": "stdout",
     "output_type": "stream",
     "text": [
      "\n",
      "\u001b[95m================================================================================\n",
      "Running tests for category: DecoderOnlyTransformer\n",
      "--------------------------------------------------------------------------------\u001b[0m\n",
      "\n",
      "\u001b[94m[01/01]    Running:  Test the decoder only transformer\u001b[0m\n",
      "Testing initialization...\n",
      "Test Passed: All components initialized correctly\n",
      "Testing forward pass...\n",
      "Test Passed: Forward pass works correctly\n",
      "Testing forward propagation order...\n",
      "Test Passed: Forward propagation order is correct\n",
      "\u001b[92m[01/01]    PASSED:   Test the decoder only transformer\u001b[0m\n",
      "\n",
      "\n",
      "\u001b[95m================================================================================\n",
      "                                  Test Summary                                  \n",
      "================================================================================\u001b[0m\n",
      "\u001b[93mCategory:    DecoderOnlyTransformer        \n",
      "Results:     1/1 tests passed (100.0%)\u001b[0m\n"
     ]
    }
   ],
   "source": [
    "!python -m tests.test_transformer_decoder_only"
   ]
  },
  {
   "cell_type": "markdown",
   "metadata": {},
   "source": [
    "## Decoding Implementations \n",
    "- `TODO`: Implement the `generate_greedy` method of the `SequenceGenerator` class in `hw4lib/decoding/sequence_generator.py`.\n",
    "- `TODO`: Then run the cell below to check your implementation."
   ]
  },
  {
   "cell_type": "code",
   "execution_count": 15,
   "metadata": {},
   "outputs": [
    {
     "name": "stdout",
     "output_type": "stream",
     "text": [
      "\n",
      "\u001b[95m================================================================================\n",
      "Running tests for category: Decoding\n",
      "--------------------------------------------------------------------------------\u001b[0m\n",
      "\n",
      "\u001b[94m[01/01]    Running:  Test greedy decoding\u001b[0m\n",
      "Testing Single Batch Greedy Search ...\n",
      "Generated: HELLO WORLD  | Expected: HELLO WORLD \n",
      "Testing Multi Batch Greedy Search ...\n",
      "Batch 0  : Generated: HELLO WORLD  | Expected: HELLO WORLD \n",
      "Batch 1  : Generated: GOOD BYE     | Expected: GOOD BYE    \n",
      "\u001b[92m[01/01]    PASSED:   Test greedy decoding\u001b[0m\n",
      "\n",
      "\n",
      "\u001b[95m================================================================================\n",
      "                                  Test Summary                                  \n",
      "================================================================================\u001b[0m\n",
      "\u001b[93mCategory:    Decoding                      \n",
      "Results:     1/1 tests passed (100.0%)\u001b[0m\n"
     ]
    }
   ],
   "source": [
    "!python -m tests.test_decoding --mode greedy"
   ]
  },
  {
   "cell_type": "markdown",
   "metadata": {},
   "source": [
    "# Experiments"
   ]
  },
  {
   "cell_type": "markdown",
   "metadata": {},
   "source": [
    "## Config\n",
    "\n",
    "- `TA-TODO`: Set your config based on what you have been assigned on the ablation sheet. "
   ]
  },
  {
   "cell_type": "code",
   "execution_count": null,
   "metadata": {},
   "outputs": [],
   "source": [
    "%%writefile config.yaml\n",
    "\n",
    "Name                      : \"Puru\"\n",
    "\n",
    "###### Tokenization ------------------------------------------------------------\n",
    "tokenization:\n",
    "  token_type                : \"1k\"       # [char, 1k, 5k, 10k]\n",
    "  token_map :\n",
    "      'char': 'hw4lib/data/tokenizer_jsons/tokenizer_char.json'\n",
    "      '1k'  : 'hw4lib/data/tokenizer_jsons/tokenizer_1000.json'\n",
    "      '5k'  : 'hw4lib/data/tokenizer_jsons/tokenizer_5000.json'\n",
    "      '10k' : 'hw4lib/data/tokenizer_jsons/tokenizer_10000.json'\n",
    "\n",
    "###### Dataset -----------------------------------------------------------------\n",
    "data:\n",
    "  root                 : \"hw4_data_subset\"            # TODO: Set the root path of your data\n",
    "  train_partition      : \"text-for-LM/train-text\"  # unpaired text for LM pre-training\n",
    "  val_partition        : \"text-for-LM/val-text\"    # unpaired text for LM pre-training\n",
    "  test_partition       : \"text-for-LM/test-text\"   # unpaired text for LM pre-trainin\n",
    "  subset               : 1.0          # Load a subset of the data (for debugging, testing, etc\n",
    "  batch_size           : 8            # Set to 0 for CPU  \n",
    "  NUM_WORKERS          : 2            # Set to 0 for CPU\n",
    "\n",
    "###### Network Specs -------------------------------------------------------------\n",
    "model: # Decoder-Only Language Model (HW4P1)\n",
    "  d_model                   : 256\n",
    "  d_ff                      : 512\n",
    "  num_layers                : 2\n",
    "  num_heads                 : 2\n",
    "  dropout                   : 0.1\n",
    "  layer_drop_rate           : 0.1\n",
    "  weight_tying              : False\n",
    "\n",
    "###### Common Training Parameters ------------------------------------------------\n",
    "training:\n",
    "  use_wandb                   : False\n",
    "  wandb_run_id                : \"none\" # \"none\" or \"run_id\"\n",
    "  resume                      : False\n",
    "  epochs                      : 5\n",
    "  gradient_accumulation_steps : 1\n",
    "\n",
    "###### Loss ----------------------------------------------------------------------\n",
    "loss: # Just good ol' CrossEntropy\n",
    "  label_smoothing: 0.0\n",
    "\n",
    "###### Optimizer -----------------------------------------------------------------\n",
    "optimizer:\n",
    "  name: \"adam\" # Options: sgd, adam, adamw\n",
    "  lr: 0.0001  # Base learning rate\n",
    "\n",
    "  # Common parameters\n",
    "  weight_decay: 0.0001\n",
    "\n",
    "  # Parameter groups\n",
    "  param_groups:\n",
    "    - name: self_attn\n",
    "      patterns: [\"self_attn\"]  # Will match all parameters containing \"encoder\"\n",
    "      lr: 0.0001  # LR for self_attn\n",
    "      layer_decay:\n",
    "        enabled: False\n",
    "        decay_rate: 0.8\n",
    "    \n",
    "    - name: ffn\n",
    "      patterns: [\"ffn\"]\n",
    "      lr: 0.0001  # LR for ffn\n",
    "      layer_decay:\n",
    "        enabled: False\n",
    "        decay_rate: 0.8\n",
    "  \n",
    "  # Layer-wise learning rates\n",
    "  layer_decay:\n",
    "    enabled: False\n",
    "    decay_rate: 0.75\n",
    "\n",
    "  # SGD specific parameters\n",
    "  sgd:\n",
    "    momentum: 0.9\n",
    "    nesterov: True\n",
    "    dampening: 0\n",
    "\n",
    "  # Adam specific parameters\n",
    "  adam:\n",
    "    betas: [0.9, 0.999]\n",
    "    eps: 1.0e-8\n",
    "    amsgrad: False\n",
    "\n",
    "  # AdamW specific parameters\n",
    "  adamw:\n",
    "    betas: [0.9, 0.999]\n",
    "    eps: 1.0e-8\n",
    "    amsgrad: False\n",
    "\n",
    "###### Scheduler -----------------------------------------------------------------\n",
    "scheduler:\n",
    "  name: \"cosine_warm\"  # Options: reduce_lr, cosine, cosine_warm\n",
    "\n",
    "  # ReduceLROnPlateau specific parameters\n",
    "  reduce_lr:\n",
    "    mode: \"min\"  # Options: min, max\n",
    "    factor: 0.1  # Factor to reduce learning rate by\n",
    "    patience: 10  # Number of epochs with no improvement after which LR will be reduced\n",
    "    threshold: 0.0001  # Threshold for measuring the new optimum\n",
    "    threshold_mode: \"rel\"  # Options: rel, abs\n",
    "    cooldown: 0  # Number of epochs to wait before resuming normal operation\n",
    "    min_lr: 0.0000001  # Minimum learning rate\n",
    "    eps: 1e-8  # Minimal decay applied to lr\n",
    "\n",
    "  # CosineAnnealingLR specific parameters\n",
    "  cosine:\n",
    "    T_max: 35  # Maximum number of iterations\n",
    "    eta_min: 0.0000001  # Minimum learning rate\n",
    "    last_epoch: -1\n",
    "\n",
    "  # CosineAnnealingWarmRestarts specific parameters\n",
    "  cosine_warm:\n",
    "    T_0: 4  # Number of iterations for the first restart\n",
    "    T_mult: 4  # Factor increasing T_i after each restart\n",
    "    eta_min: 0.0000001  # Minimum learning rate\n",
    "    last_epoch: -1\n",
    "\n",
    "  # Warmup parameters (can be used with any scheduler)\n",
    "  warmup:\n",
    "    enabled: False\n",
    "    type: \"exponential\"  # Options: linear, exponential\n",
    "    epochs: 5\n",
    "    start_factor: 0.1\n",
    "    end_factor: 1.0\n",
    "\n"
   ]
  },
  {
   "cell_type": "code",
   "execution_count": 15,
   "metadata": {},
   "outputs": [],
   "source": [
    "with open('config.yaml', 'r') as file:\n",
    "    config = yaml.safe_load(file)"
   ]
  },
  {
   "cell_type": "markdown",
   "metadata": {},
   "source": [
    "## Tokenizer"
   ]
  },
  {
   "cell_type": "code",
   "execution_count": null,
   "metadata": {},
   "outputs": [],
   "source": [
    "Tokenizer = H4Tokenizer(\n",
    "    token_map  = config['tokenization']['token_map'], \n",
    "    token_type = config['tokenization']['token_type']\n",
    ")"
   ]
  },
  {
   "cell_type": "markdown",
   "metadata": {},
   "source": [
    "## Datasets"
   ]
  },
  {
   "cell_type": "code",
   "execution_count": null,
   "metadata": {},
   "outputs": [],
   "source": [
    "train_dataset  = LMDataset(\n",
    "    partition  = config['data']['train_partition'],\n",
    "    config     = config['data'],\n",
    "    tokenizer  = Tokenizer\n",
    ")\n",
    "\n",
    "val_dataset    = LMDataset(\n",
    "    partition  = config['data']['val_partition'],\n",
    "    config     = config['data'],\n",
    "    tokenizer  = Tokenizer\n",
    ")\n",
    "\n",
    "test_dataset   = LMDataset(\n",
    "    partition  = config['data']['test_partition'],\n",
    "    config     = config['data'],\n",
    "    tokenizer  = Tokenizer\n",
    ")   \n",
    "\n",
    "gc.collect()"
   ]
  },
  {
   "cell_type": "markdown",
   "metadata": {},
   "source": [
    "## Dataloaders"
   ]
  },
  {
   "cell_type": "code",
   "execution_count": 18,
   "metadata": {},
   "outputs": [],
   "source": [
    "train_loader    = DataLoader(\n",
    "    dataset     = train_dataset,\n",
    "    batch_size  = config['data']['batch_size'],\n",
    "    shuffle     = True,\n",
    "    num_workers = config['data']['NUM_WORKERS'] if device == 'cuda' else 0,\n",
    "    pin_memory  = True,\n",
    "    collate_fn  = train_dataset.collate_fn   \n",
    ")\n",
    "\n",
    "val_loader      = DataLoader(\n",
    "    dataset     = val_dataset,\n",
    "    batch_size  = config['data']['batch_size'],\n",
    "    shuffle     = False,\n",
    "    num_workers = config['data']['NUM_WORKERS'] if device == 'cuda' else 0,\n",
    "    pin_memory  = True,\n",
    "    collate_fn  = val_dataset.collate_fn   \n",
    ")\n",
    "\n",
    "test_loader     = DataLoader(\n",
    "    dataset     = test_dataset,\n",
    "    batch_size  = config['data']['batch_size'],\n",
    "    shuffle     = False,\n",
    "    num_workers = config['data']['NUM_WORKERS'] if device == 'cuda' else 0,\n",
    "    pin_memory  = True,\n",
    "    collate_fn  = test_dataset.collate_fn   \n",
    ")"
   ]
  },
  {
   "cell_type": "markdown",
   "metadata": {},
   "source": [
    "### Dataloader Verification"
   ]
  },
  {
   "cell_type": "code",
   "execution_count": null,
   "metadata": {},
   "outputs": [],
   "source": [
    "verify_dataloader(train_loader)"
   ]
  },
  {
   "cell_type": "code",
   "execution_count": null,
   "metadata": {},
   "outputs": [],
   "source": [
    "verify_dataloader(val_loader)"
   ]
  },
  {
   "cell_type": "code",
   "execution_count": null,
   "metadata": {},
   "outputs": [],
   "source": [
    "verify_dataloader(test_loader)"
   ]
  },
  {
   "cell_type": "markdown",
   "metadata": {},
   "source": [
    "## Calculate Max Transcript Length \n",
    "\n",
    "\n"
   ]
  },
  {
   "cell_type": "markdown",
   "metadata": {},
   "source": [
    "Calculating the maximum transcript length across your dataset is a crucial step when working with certain transformer models. \n",
    "-  We'll use sinusoidal positional encodings that must be precomputed up to a fixed maximum length.\n",
    "- This maximum length is a hyperparameter that determines:\n",
    "  - How long of a sequence your model can process\n",
    "  - The size of your positional encoding matrix\n",
    "  - Memory requirements during training and inference\n",
    "- `Requirements`: For this assignment, ensure your positional encodings can accommodate at least the longest sequence in your dataset to prevent truncation. However, you can set this value higher if you anticipate using your languagemodel to work with longer sequences in future tasks (hint: this might be useful for P2! 😉)."
   ]
  },
  {
   "cell_type": "code",
   "execution_count": null,
   "metadata": {},
   "outputs": [],
   "source": [
    "max_transcript_length = max(train_dataset.text_max_len, val_dataset.text_max_len, test_dataset.text_max_len)\n",
    "print(\"=\"*50)\n",
    "print(f\"{'Global Max Transcript Length':<30} : {max_transcript_length}\")\n",
    "print(\"=\"*50)"
   ]
  },
  {
   "cell_type": "markdown",
   "metadata": {},
   "source": [
    "## Model"
   ]
  },
  {
   "cell_type": "code",
   "execution_count": null,
   "metadata": {},
   "outputs": [],
   "source": [
    "model = DecoderOnlyTransformer(\n",
    "    num_layers      = config['model']['num_layers'],\n",
    "    d_model         = config['model']['d_model'],\n",
    "    num_heads       = config['model']['num_heads'],\n",
    "    d_ff            = config['model']['d_ff'],\n",
    "    dropout         = config['model']['dropout'],    \n",
    "    max_len         = max_transcript_length,\n",
    "    num_classes     = Tokenizer.vocab_size,\n",
    "    weight_tying    = config['model']['weight_tying'],\n",
    "    layer_drop_rate = config['model']['layer_drop_rate']\n",
    ")\n",
    "\n",
    "# Get some inputs from the text loader\n",
    "for batch in train_loader:\n",
    "    shifted_transcripts, golden_transcripts, transcript_lengths = batch\n",
    "    break \n",
    "\n",
    "model_stats = summary(model, input_data=[shifted_transcripts, transcript_lengths])\n",
    "print(model_stats)"
   ]
  },
  {
   "cell_type": "markdown",
   "metadata": {},
   "source": [
    "## Trainer\n",
    "You will have to do some minor in-filling for the `LMTrainer` class in `hw4lib/trainers/lm_trainer.py` before you can use it.\n",
    "- `TODO`: Fill in the `TODO`s in the `__init__`.\n",
    "- `TODO`: Fill in the `TODO`s in the `_train_epoch`.\n",
    "- `TODO`: Fill in the `TODO`s in the `_evaluate_epoch`.\n",
    "- `TODO`: Fill in the `TODO`s in the `train` method.\n",
    "- `TODO`: Fill in the `TODO`s in the `evaluate` method.\n",
    "- `TODO`: Fill in the `TODO`s in the `generate` method.\n"
   ]
  },
  {
   "cell_type": "code",
   "execution_count": null,
   "metadata": {},
   "outputs": [],
   "source": [
    "trainer = LMTrainer(\n",
    "    model=model,\n",
    "    tokenizer=Tokenizer,\n",
    "    config=config,\n",
    "    run_name=\"Puru\",\n",
    "    config_file=\"config.yaml\"\n",
    ")"
   ]
  },
  {
   "cell_type": "markdown",
   "metadata": {},
   "source": [
    "# Train"
   ]
  },
  {
   "cell_type": "code",
   "execution_count": null,
   "metadata": {},
   "outputs": [],
   "source": [
    "trainer.train(train_loader, val_loader)"
   ]
  },
  {
   "cell_type": "markdown",
   "metadata": {},
   "source": [
    "# Evaluate\n"
   ]
  },
  {
   "cell_type": "code",
   "execution_count": null,
   "metadata": {},
   "outputs": [],
   "source": [
    "test_metrics, test_generation_results = trainer.evaluate(test_loader)"
   ]
  },
  {
   "cell_type": "markdown",
   "metadata": {},
   "source": [
    "# Submission\n",
    "To submit your assignment, you will need to create a `handin.tar` with the following directory structure:\n",
    "\n",
    "```\n",
    "handin/\n",
    "├── mytorch/                    # Your implemented modules\n",
    "│   ├── __init__.py\n",
    "│   ├── softmax.py              # Softmax implementation\n",
    "│   ├── attention.py            # Attention implementations\n",
    "│   └── ...\n",
    "├── test_metrics.json     # Results from evaluation\n",
    "├── test_generated_results.json    # Sample text generations\n",
    "└── model_arch.txt              # Model architecture summary\n",
    "```\n",
    "\n",
    "- `TODO`: Simply run the cell below once you are satisfied with your current state and this will create the `handin.tar` file.\n",
    "\n",
    "\n",
    "\n"
   ]
  },
  {
   "cell_type": "code",
   "execution_count": null,
   "metadata": {},
   "outputs": [],
   "source": [
    "# Create temporary handin directory\n",
    "if os.path.exists('handin'):\n",
    "    shutil.rmtree('handin')\n",
    "os.makedirs('handin')\n",
    "\n",
    "# Copy mytorch directory\n",
    "shutil.copytree('mytorch', 'handin/mytorch')\n",
    "\n",
    "# Save final results\n",
    "with open('handin/test_metrics.json', 'w') as f:\n",
    "    json.dump(test_metrics, f, indent=4)\n",
    "\n",
    "with open('handin/test_generated_results.json', 'w') as f:\n",
    "    json.dump(test_generation_results['greedy'], f, indent=4)\n",
    "\n",
    "# Save model architecture\n",
    "with open('handin/model_arch.txt', 'w') as f:\n",
    "    f.write(str(model_stats))\n",
    "\n",
    "# Create tar file with all exclusions handled by filter\n",
    "with tarfile.open('handin.tar', 'w') as tar:\n",
    "    def filter_files(tarinfo):\n",
    "        # Skip unwanted files\n",
    "        if any(pattern in tarinfo.name for pattern in [\n",
    "            '.DS_Store',\n",
    "            '__pycache__',\n",
    "            '.pyc'\n",
    "        ]):\n",
    "            return None\n",
    "        return tarinfo\n",
    "    \n",
    "    tar.add('handin', arcname='handin', filter=filter_files)\n",
    "\n",
    "# Cleanup\n",
    "shutil.rmtree('handin')\n",
    "\n",
    "print(\"Created handin.tar successfully!\")"
   ]
  },
  {
   "cell_type": "markdown",
   "metadata": {},
   "source": [
    "# "
   ]
  }
 ],
 "metadata": {
  "kernelspec": {
   "display_name": "base",
   "language": "python",
   "name": "python3"
  },
  "language_info": {
   "codemirror_mode": {
    "name": "ipython",
    "version": 3
   },
   "file_extension": ".py",
   "mimetype": "text/x-python",
   "name": "python",
   "nbconvert_exporter": "python",
   "pygments_lexer": "ipython3",
   "version": "3.12.4"
  }
 },
 "nbformat": 4,
 "nbformat_minor": 2
}
