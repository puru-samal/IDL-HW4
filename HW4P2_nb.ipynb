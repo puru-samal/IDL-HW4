{
  "cells": [
    {
      "cell_type": "markdown",
      "metadata": {
        "id": "ksTZ5pAtXWXh"
      },
      "source": [
        "# Setup\n",
        "-  Follow the setup instructions based on your preferred environment!"
      ]
    },
    {
      "cell_type": "markdown",
      "metadata": {
        "id": "QdhQJTlgXWXk"
      },
      "source": [
        "## Local"
      ]
    },
    {
      "cell_type": "markdown",
      "metadata": {
        "id": "CvlykMP_XWXl"
      },
      "source": [
        "One of our key goals in designing this assignment is to allow you to complete most of the preliminary implementation work locally.  \n",
        "We highly recommend that you **pass all tests locally** using the provided `hw4_data_subset` before moving to a GPU runtime.  \n",
        "To do this, simply:\n",
        "\n",
        "### Create a new conda environment\n",
        "```bash\n",
        "# Be sure to deactivate any active environments first\n",
        "conda create -n hw4 python=3.12.4\n",
        "```\n",
        "\n",
        "### Activate the conda environment\n",
        "```bash\n",
        "conda activate hw4\n",
        "```\n",
        "\n",
        "### Install the dependencies using the provided `requirements.txt`\n",
        "```bash\n",
        "pip install --no-cache-dir --ignore-installed -r requirements.txt\n",
        "```\n",
        "\n",
        "### Ensure that your notebook is in the same working directory as the `Handout`\n",
        "This can be achieved by:\n",
        "1. Physically moving the notebook into the handout directory.\n",
        "2. Changing the notebook’s current working directory to the handout directory using the os.chdir() function.\n",
        "\n",
        "### Open the notebook and select the newly created environment from the kernel selector.\n",
        "\n",
        "If everything was done correctly, You should see atleast the following files in your current working directory after running `!ls`:\n",
        "```\n",
        ".\n",
        "├── README.md\n",
        "├── requirements.txt\n",
        "├── hw4lib/\n",
        "├── mytorch/\n",
        "├── tests/\n",
        "└── hw4_data_subset/\n",
        "```"
      ]
    },
    {
      "cell_type": "markdown",
      "metadata": {
        "id": "T1K8ZJzQXWXm"
      },
      "source": [
        "## Colab"
      ]
    },
    {
      "cell_type": "markdown",
      "metadata": {
        "id": "3zBCpeYGXWXm"
      },
      "source": [
        "### Step 1: Get your handout\n",
        "- See writeup for recommended approaches."
      ]
    },
    {
      "cell_type": "code",
      "execution_count": null,
      "metadata": {
        "id": "7CEuLMiFXWXm"
      },
      "outputs": [],
      "source": [
        "# Example: My preferred approach\n",
        "import os\n",
        "# Settings -> Developer Settings -> Personal Access Tokens -> Token (classic)\n",
        "os.environ['GITHUB_TOKEN'] = \"your_github_token_here\"\n",
        "\n",
        "GITHUB_USERNAME = \"your_github_username_here\"\n",
        "REPO_NAME       = \"your_github_repo_name_here\"\n",
        "TOKEN = os.environ.get(\"GITHUB_TOKEN\")\n",
        "repo_url        = f\"https://{TOKEN}@github.com/{GITHUB_USERNAME}/{REPO_NAME}.git\"\n",
        "!git clone {repo_url}"
      ]
    },
    {
      "cell_type": "code",
      "execution_count": null,
      "metadata": {
        "id": "_Ov_XzmaXWXn"
      },
      "outputs": [],
      "source": [
        "# To pull latest changes (Must be in the repo dir, use pwd/ls to verify)\n",
        "!cd {REPO_NAME} && git pull"
      ]
    },
    {
      "cell_type": "markdown",
      "metadata": {
        "id": "MczkQoLuXWXo"
      },
      "source": [
        "### Step 2: Install Dependencies\n",
        "- `NOTE`: Your runtime will be restarted to ensure all dependencies are updated.\n",
        "- `NOTE`: You will see a runtime crashed message, this was intentionally done. Simply move on to the next cell."
      ]
    },
    {
      "cell_type": "code",
      "execution_count": null,
      "metadata": {
        "collapsed": true,
        "id": "GVyqU62HXWXo"
      },
      "outputs": [],
      "source": [
        "%pip install --no-deps -r IDL-HW4/requirements.txt\n",
        "import os\n",
        "os.kill(os.getpid(), 9) # NOTE: This will restart the your colab Python runtime (required)!"
      ]
    },
    {
      "cell_type": "markdown",
      "metadata": {
        "id": "0Dww5UXpXWXp"
      },
      "source": [
        "### Step 3: Obtain Data\n",
        "\n",
        "- `NOTE`: This process will automatically download and unzip data for both `HW4P1` and `HW4P2`.  \n"
      ]
    },
    {
      "cell_type": "code",
      "execution_count": null,
      "metadata": {
        "id": "HfPpo9nlXWXp"
      },
      "outputs": [],
      "source": [
        "!curl -L -o /content/s25-hw4-data.zip https://www.kaggle.com/api/v1/datasets/download/cmu11785/s25-hw4-data\n",
        "!unzip -q -o /content/s25-hw4-data.zip -d /content/hw4_data\n",
        "!rm -rf /content/s25-hw4-data.zip\n",
        "!du -h --max-depth=2 /content/hw4_data"
      ]
    },
    {
      "cell_type": "markdown",
      "metadata": {
        "id": "RV797kwAXWXp"
      },
      "source": [
        "### Step 4: Move to Handout Directory\n",
        "You must be within the handout directory for the library imports to work!\n",
        "\n",
        "- `NOTE`: You may have to repeat running this command anytime you restart your runtime.\n",
        "- `NOTE`: You can do a `pwd` to check if you are in the right directory.\n",
        "- `NOTE`: The way it is setup currently, Your data directory should be one level up from your project directory. Keep this in mind when you are setting your `root` in the config file.\n",
        "\n",
        "If everything was done correctly, You should see atleast the following files in your current working directory after running `!ls`:\n",
        "```\n",
        ".\n",
        "├── README.md\n",
        "├── requirements.txt\n",
        "├── hw4lib/\n",
        "├── mytorch/\n",
        "├── tests/\n",
        "└── hw4_data_subset/\n",
        "\n",
        "```"
      ]
    },
    {
      "cell_type": "code",
      "execution_count": null,
      "metadata": {
        "id": "mQOe2uDxXWXp"
      },
      "outputs": [],
      "source": [
        "import os\n",
        "os.chdir('IDL-HW4')\n",
        "!ls"
      ]
    },
    {
      "cell_type": "markdown",
      "metadata": {
        "id": "dqzcpqG0XWXp"
      },
      "source": [
        "## Kaggle"
      ]
    },
    {
      "cell_type": "markdown",
      "metadata": {
        "id": "HEg4SBYUXWXq"
      },
      "source": [
        "While it is possible to run the notebook on Kaggle, we would recommend against it. This assignment is more resource intensive and may run slower on Kaggle."
      ]
    },
    {
      "cell_type": "markdown",
      "metadata": {
        "id": "NMX5lqH9XWXq"
      },
      "source": [
        "### Step 1: Get your handout\n",
        "- See writeup for recommended approaches."
      ]
    },
    {
      "cell_type": "code",
      "execution_count": null,
      "metadata": {
        "id": "0qDr7vrLXWXq"
      },
      "outputs": [],
      "source": [
        "# Example: My preferred approach\n",
        "import os\n",
        "# Settings -> Developer Settings -> Personal Access Tokens -> Token (classic)\n",
        "os.environ['GITHUB_TOKEN'] = \"your_github_token_here\"\n",
        "\n",
        "GITHUB_USERNAME = \"your_github_username_here\"\n",
        "REPO_NAME       = \"your_github_repo_name_here\"\n",
        "TOKEN = os.environ.get(\"GITHUB_TOKEN\")\n",
        "repo_url        = f\"https://{TOKEN}@github.com/{GITHUB_USERNAME}/{REPO_NAME}.git\"\n",
        "!git clone {repo_url}"
      ]
    },
    {
      "cell_type": "code",
      "execution_count": null,
      "metadata": {
        "id": "R_CXP-GvXWXr"
      },
      "outputs": [],
      "source": [
        "# To pull latest changes (Must be in the repo dir, use pwd/ls to verify)\n",
        "!cd {REPO_NAME} && git pull"
      ]
    },
    {
      "cell_type": "markdown",
      "metadata": {
        "id": "x2nQNvB9XWXr"
      },
      "source": [
        "### Step 2: Install Dependencies\n",
        "- Simply set the `Environment` setting in the notebook to `Always use latest environment`. No need to install anything."
      ]
    },
    {
      "cell_type": "markdown",
      "metadata": {
        "id": "vIu_QszEXWXr"
      },
      "source": [
        "### Step 3: Obtain Data\n",
        "\n",
        "#### ⚠️ Important: Kaggle Users  \n",
        "If you are using Kaggle, **do not manually download the data!** The dataset is large and may exceed your available disk space. Instead, follow these steps to add the dataset directly to your notebook:\n",
        "\n",
        "1. Open your **Kaggle Notebook**.  \n",
        "2. Navigate to **Notebook → Input**.  \n",
        "3. Click **Add Input**.  \n",
        "4. In the search bar, paste the following URL:  \n",
        "   👉 [https://www.kaggle.com/datasets/cmu11785/s25-hw4-data](https://www.kaggle.com/datasets/cmu11785/s25-hw4-data)  \n",
        "5. Click the **➕ (plus sign)** to add the dataset to your notebook.  \n",
        "\n",
        "#### 📌 Note:  \n",
        "This process will automatically download and unzip data for both `HW4P1` and `HW4P2`.  \n"
      ]
    },
    {
      "cell_type": "markdown",
      "metadata": {
        "id": "eylVaaxrXWXr"
      },
      "source": [
        "### Step 4: Move to Handout Directory\n",
        "You must be within the handout directory for the library imports to work!\n",
        "\n",
        "- `NOTE`: You may have to repeat running this command anytime you restart your runtime.\n",
        "- `NOTE`: You can do a `pwd` to check if you are in the right directory.\n",
        "- `NOTE`: The way it is setup currently, Your data directory should be one level up from your project directory. Keep this in mind when you are setting your `root` in the config file.\n",
        "\n",
        "If everything was done correctly, You should see atleast the following files in your current working directory after running `!ls`:\n",
        "```\n",
        ".\n",
        "├── README.md\n",
        "├── requirements.txt\n",
        "├── hw4lib/\n",
        "├── mytorch/\n",
        "├── tests/\n",
        "└── hw4_data_subset/\n",
        "\n",
        "```"
      ]
    },
    {
      "cell_type": "code",
      "execution_count": null,
      "metadata": {
        "id": "-Wpjv3ujXWXs"
      },
      "outputs": [],
      "source": [
        "import os\n",
        "os.chdir('IDL-HW4')\n",
        "!ls"
      ]
    },
    {
      "cell_type": "markdown",
      "metadata": {
        "id": "uP0Aucc7XWXs"
      },
      "source": [
        "## PSC"
      ]
    },
    {
      "cell_type": "markdown",
      "metadata": {
        "id": "yJm_aSHvXWXs"
      },
      "source": [
        "### Step 1: Get your handout\n",
        "- See writeup for recommended approaches.\n",
        "- If you use Remote - SSH to connect to Bridges2, you can upload the handout to your project directory and work from there.\n"
      ]
    },
    {
      "cell_type": "code",
      "execution_count": null,
      "metadata": {
        "id": "simQXvJoXWXs"
      },
      "outputs": [],
      "source": [
        "# Example: My preferred approach\n",
        "import os\n",
        "# Settings -> Developer Settings -> Personal Access Tokens -> Token (classic)\n",
        "os.environ['GITHUB_TOKEN'] = \"your_github_token_here\"\n",
        "\n",
        "GITHUB_USERNAME = \"your_github_username_here\"\n",
        "REPO_NAME       = \"your_github_repo_name_here\"\n",
        "TOKEN = os.environ.get(\"GITHUB_TOKEN\")\n",
        "repo_url        = f\"https://{TOKEN}@github.com/{GITHUB_USERNAME}/{REPO_NAME}.git\"\n",
        "!git clone {repo_url}"
      ]
    },
    {
      "cell_type": "code",
      "execution_count": null,
      "metadata": {
        "id": "8Ibi0yUFXWXs"
      },
      "outputs": [],
      "source": [
        "# To pull latest changes (Must be in the repo dir, use pwd/ls to verify)\n",
        "!cd {REPO_NAME} && git pull"
      ]
    },
    {
      "cell_type": "markdown",
      "metadata": {
        "id": "VXhjLh83XWXt"
      },
      "source": [
        "### Step 2: Setting Up Your Environment on Bridges2\n",
        "\n",
        "For this homework, we are providing a shared Conda environment for the entire class. Follow these steps to set up the environment and start a Jupyter notebook on Bridges2:"
      ]
    },
    {
      "cell_type": "markdown",
      "metadata": {
        "id": "vG_taa71XWXt"
      },
      "source": [
        "#### 1. SSH into Bridges2\n",
        "```bash\n",
        "ssh username@bridges2.psc.edu\n",
        "```"
      ]
    },
    {
      "cell_type": "markdown",
      "metadata": {
        "id": "4hpcW2C5XWXt"
      },
      "source": [
        "#### 2. Navigate to your Project Directory\n",
        "```bash\n",
        "cd $PROJECT\n",
        "```"
      ]
    },
    {
      "cell_type": "markdown",
      "metadata": {
        "id": "j-YNBIVWXWXt"
      },
      "source": [
        "#### 3. Load the Anaconda Module\n",
        "```bash\n",
        "module load anaconda3\n",
        "```"
      ]
    },
    {
      "cell_type": "markdown",
      "metadata": {
        "id": "J-7_f2PGXWXt"
      },
      "source": [
        "#### 4. Activate the provided HW4 Environment\n",
        "```bash\n",
        "conda deactivate # First, deactivate any existing Conda environment\n",
        "conda activate /jet/home/psamal/hw_envs/idl_hw4\n",
        "```"
      ]
    },
    {
      "cell_type": "markdown",
      "metadata": {
        "id": "Ag3zHpx2XWXu"
      },
      "source": [
        "#### 5. Request a Compute Node\n",
        "```bash\n",
        "interact -p GPU-shared --gres=gpu:v100-32:1 -t 8:00:00\n",
        "```"
      ]
    },
    {
      "cell_type": "markdown",
      "metadata": {
        "id": "annERewlXWXu"
      },
      "source": [
        "#### 6. Re-activate Environment\n",
        "If your Conda environment was deactivated due to node allocation:\n",
        "```bash\n",
        "conda deactivate # First, deactivate any existing Conda environment\n",
        "conda activate /jet/home/psamal/hw_envs/idl_hw4\n",
        "```"
      ]
    },
    {
      "cell_type": "markdown",
      "metadata": {
        "id": "UPp6QNFGXWXu"
      },
      "source": [
        "#### 7. Start Jupyter Notebook\n",
        "Launch Jupyter Notebook:\n",
        "```bash\n",
        "jupyter notebook --no-browser --ip=0.0.0.0\n",
        "```"
      ]
    },
    {
      "cell_type": "markdown",
      "metadata": {
        "id": "V9QqEXMkXWXv"
      },
      "source": [
        "\n",
        "#### 8. Connect to Jupyter Server\n",
        "\n",
        "You can now use your prefered way of connecting to the Jupyter Server. Your options should be covered in the docs linked in post 558 @ piazza.\n",
        "\n",
        "The following is my preferred way of connecting to the Jupyter Server:\n",
        "\n",
        "##### 8.1 Connect in VSCode\n",
        "I prefer uploading the notebook to PSC Bridges2 storage ($PROJECT directory) and then connecting to the Jupyter Server from there.\n",
        "1. Use Remote - SSH to connect to Bridges2 and navigate to your project directory.\n",
        "2. Upload the notebook to the project directory.\n",
        "3. Open the notebook in VSCode.\n",
        "4. Go to **Kernel** → **Select Another Kernel** → **Existing Jupyter Server**\n",
        "5. Enter the URL of the Jupyter Server:```http://{hostname}:{port}/tree?token={token}```\n",
        "   - eg: `http://v011.ib.bridges2.psc.edu:8888/tree?token=e4b302434e68990f28bc2b4ae8d216eb87eecb7090526249`\n",
        "\n",
        "> **Note**: Replace `{hostname}`, `{port}` and `{token}` with your actual values from the Jupyter output."
      ]
    },
    {
      "cell_type": "markdown",
      "metadata": {
        "id": "yTzqOnqVXWXw"
      },
      "source": [
        "### Step 3: Get Data\n",
        "- `NOTE`: This will download and unzip data for both `HW4P1` and `HW4P2`\n",
        "- `NOTE`: We are using `$LOCAL`: the scratch storage on local disk on the node running a job to store out data.\n",
        "  - Disk accesses are much faster than what you would get from `$PROJECT` storage\n",
        "  - `IT IS NOT PERSISTENT`\n",
        "- `NOTE`: Make sure you have completed the previous steps before running this cell.\n",
        "- Read more about it PSC File Spaces [here](https://www.psc.edu/resources/bridges-2/user-guide#file-spaces)."
      ]
    },
    {
      "cell_type": "code",
      "execution_count": null,
      "metadata": {
        "id": "Rx2lB7TKXWXw"
      },
      "outputs": [],
      "source": [
        "!curl -L -o $LOCAL/s25-hw4-data.zip https://www.kaggle.com/api/v1/datasets/download/cmu11785/s25-hw4-data\n",
        "!unzip -q -o $LOCAL/s25-hw4-data.zip -d $LOCAL/hw4_data\n",
        "!rm -rf $LOCAL/s25-hw4-data.zip\\\n",
        "!du -h --max-depth=2 $LOCAL/hw4_data"
      ]
    },
    {
      "cell_type": "markdown",
      "metadata": {
        "id": "FbFIgoFyXWXw"
      },
      "source": [
        "### Step 4: Move to Handout Directory\n",
        "Depending on the way you are running your notebook, you may or may not need to run this cell. As long as you are within the handout directory for the library imports to work!\n",
        "\n",
        "- `NOTE`: You may have to repeat running this command anytime you restart your runtime.\n",
        "- `NOTE`: You can do a `pwd` to check if you are in the right directory.\n",
        "- `NOTE`: The way it is setup currently, Your data directory should be one level up from your project directory. Keep this in mind when you are setting your `root` in the config file.\n",
        "\n",
        "If everything was done correctly, You should see atleast the following files in your current working directory after running `!ls`:\n",
        "```\n",
        ".\n",
        "├── README.md\n",
        "├── requirements.txt\n",
        "├── hw4lib/\n",
        "├── mytorch/\n",
        "├── tests/\n",
        "└── hw4_data_subset/\n",
        "\n",
        "```"
      ]
    },
    {
      "cell_type": "code",
      "execution_count": null,
      "metadata": {
        "id": "AmRtaGthXWXw"
      },
      "outputs": [],
      "source": [
        "# Move to the handout directory if you are not there already\n",
        "import os\n",
        "os.chdir('IDL-HW4')\n",
        "!ls"
      ]
    },
    {
      "cell_type": "markdown",
      "metadata": {
        "id": "gv-iljarXWXw"
      },
      "source": [
        "# Imports\n",
        "- If your setup was done correctly, you should be able to run the following cell without any issues."
      ]
    },
    {
      "cell_type": "code",
      "execution_count": null,
      "metadata": {
        "id": "41s27pCAXWXx"
      },
      "outputs": [],
      "source": [
        "from hw4lib.data import (\n",
        "    H4Tokenizer,\n",
        "    ASRDataset,\n",
        "    verify_dataloader\n",
        ")\n",
        "from hw4lib.model import (\n",
        "    DecoderOnlyTransformer,\n",
        "    EncoderDecoderTransformer\n",
        ")\n",
        "from hw4lib.utils import (\n",
        "    create_scheduler,\n",
        "    create_optimizer,\n",
        "    plot_lr_schedule\n",
        ")\n",
        "from hw4lib.trainers import (\n",
        "    ASRTrainer,\n",
        "    ProgressiveTrainer\n",
        ")\n",
        "from torch.utils.data import DataLoader\n",
        "import yaml\n",
        "import gc\n",
        "import torch\n",
        "from torchinfo import summary\n",
        "import os\n",
        "import json\n",
        "import wandb\n",
        "import pandas as pd\n",
        "device = \"cuda\" if torch.cuda.is_available() else \"cpu\"\n",
        "print(f\"Using device: {device}\")"
      ]
    },
    {
      "cell_type": "markdown",
      "metadata": {
        "id": "k5ey-Nd0XWXx"
      },
      "source": [
        "# Implementations\n",
        "- `NOTE`: All of these implementations have detailed specification, implementation details, and hints in their respective source files. Make sure to read all of them in their entirety to understand the implementation details!"
      ]
    },
    {
      "cell_type": "markdown",
      "metadata": {
        "id": "yvQA7UchXWXx"
      },
      "source": [
        "## Dataset Implementation\n",
        "- Implement the `ASRDataset` class in `hw4lib/data/asr_dataset.py`.\n",
        "- You will have to implement parts of `__init__` and completely implement the `__len__`, `__getitem__` and `collate_fn` methods.\n",
        "- Run the cell below to check your implementation.\n"
      ]
    },
    {
      "cell_type": "code",
      "execution_count": null,
      "metadata": {
        "id": "BPZNGGJ9XWXx"
      },
      "outputs": [],
      "source": [
        "!python -m tests.test_dataset_asr"
      ]
    },
    {
      "cell_type": "markdown",
      "metadata": {
        "id": "dTKyK49VXWXx"
      },
      "source": [
        "## Model Implementations\n",
        "\n",
        "Overview:\n",
        "\n",
        "- Implement the `CrossAttentionLayer` class in `hw4lib/model/sublayers.py`.\n",
        "- Implement the `CrossAttentionDecoderLayer` class in `hw4lib/model/decoder_layers.py`.\n",
        "- Implement the `SelfAttentionEncoderLayer` class in `hw4lib/model/encoder_layers.py`. This will be mostly a copy-paste of the `SelfAttentionDecoderLayer` class in `hw4lib/model/decoder_layers.py` with one minor diffrence: it can attend to all positions in the input sequence.\n",
        "- Implement the `EncoderDecoderTransformer` class in `hw4lib/model/transformers.py`."
      ]
    },
    {
      "cell_type": "markdown",
      "metadata": {
        "id": "POb3Agw6XWXy"
      },
      "source": [
        "### Transformer Sublayers\n",
        "- Now, Implement the `CrossAttentionLayer` class in `hw4lib/model/sublayers.py`.\n",
        "- `NOTE`: You should have already implemented the `SelfAttentionLayer`, and `FeedForwardLayer` classes in `hw4lib/model/sublayers.py`.\n",
        "- Run the cell below to check your implementation."
      ]
    },
    {
      "cell_type": "code",
      "execution_count": null,
      "metadata": {
        "id": "_vYRTVdGXWXy"
      },
      "outputs": [],
      "source": [
        "!python -m tests.test_sublayer_crossattention"
      ]
    },
    {
      "cell_type": "markdown",
      "metadata": {
        "id": "FbIAaQ--XWXy"
      },
      "source": [
        "### Transformer Cross-Attention Decoder Layer\n",
        "- Implement the `CrossAttentionDecoderLayer` class in `hw4lib/model/decoder_layers.py`.\n",
        "- Then run the cell below to check your implementation.\n"
      ]
    },
    {
      "cell_type": "code",
      "execution_count": null,
      "metadata": {
        "id": "s4Ke3vAVXWXy"
      },
      "outputs": [],
      "source": [
        "!python -m tests.test_decoderlayer_crossattention"
      ]
    },
    {
      "cell_type": "markdown",
      "metadata": {
        "id": "28snypxrXWXy"
      },
      "source": [
        "### Transformer Self-Attention Encoder Layer\n",
        "- Implement the `SelfAttentionEncoderLayer` class in `hw4lib/model/encoder_layers.py`.\n",
        "- Then run the cell below to check your implementation.\n",
        "\n",
        "\n"
      ]
    },
    {
      "cell_type": "code",
      "execution_count": null,
      "metadata": {
        "id": "h_bRj56mXWXy"
      },
      "outputs": [],
      "source": [
        "!python -m tests.test_encoderlayer_selfattention"
      ]
    },
    {
      "cell_type": "markdown",
      "metadata": {
        "id": "c1b9Co8HXWXy"
      },
      "source": [
        "### Encoder-Decoder Transformer\n",
        "\n",
        "- Implement the  `EncoderDecoderTransformer` class in `hw4lib/model/transformers.py`.\n",
        "- Then run the cell below to check your implementation."
      ]
    },
    {
      "cell_type": "code",
      "execution_count": null,
      "metadata": {
        "id": "0ACVZWXrXWXy"
      },
      "outputs": [],
      "source": [
        "!python -m tests.test_transformer_encoder_decoder"
      ]
    },
    {
      "cell_type": "markdown",
      "metadata": {
        "id": "fxMaLdHdXWXy"
      },
      "source": [
        "## Decoding Implementation\n",
        "- We highly recommend you to implement the `generate_beam` method of the `SequenceGenerator` class in `hw4lib/decoding/sequence_generator.py`.\n",
        "- Then run the cell below to check your implementation.\n",
        "- `NOTE`: This is an optional but highly recommended task for `HW4P2` to ease the journey to high cutoffs!"
      ]
    },
    {
      "cell_type": "code",
      "execution_count": null,
      "metadata": {
        "id": "HnAQO_VHXWXy"
      },
      "outputs": [],
      "source": [
        "!python -m tests.test_decoding --mode beam"
      ]
    },
    {
      "cell_type": "markdown",
      "metadata": {
        "id": "Ze6Ufzt2XWXy"
      },
      "source": [
        "## Trainer Implementation\n",
        "You will have to do some minor in-filling for the `ASRTrainer` class in `hw4lib/trainers/asr_trainer.py` before you can use it.\n",
        "- Fill in the `TODO`s in the `__init__`.\n",
        "- Fill in the `TODO`s in the `_train_epoch`.\n",
        "- Fill in the `TODO`s in the `recognize` method.\n",
        "- Fill in the `TODO`s in the `_validate_epoch`.\n",
        "- Fill in the `TODO`s in the `train` method.\n",
        "- Fill in the `TODO`s in the `evaluate` method.\n",
        "\n",
        "`WARNING`: There are no test's for this. Implement carefully!"
      ]
    },
    {
      "cell_type": "markdown",
      "metadata": {
        "id": "d8CtOMbVXWXz"
      },
      "source": [
        "# Experiments\n",
        "From this point onwards you may want to switch to a `GPU` runtime.\n",
        "- `OBJECTIVE`: Optimize your model for `CER` on the test set."
      ]
    },
    {
      "cell_type": "markdown",
      "metadata": {
        "id": "h-P4qGdjXWXz"
      },
      "source": [
        "## Config\n",
        "- You can use the `config.yaml` file to set your config for your ablation study.\n",
        "\n",
        "---\n",
        "### Notes:\n",
        "\n",
        "- Set `tokenization: token_type:` to specify your desired tokenization strategy\n",
        "- You will need to set the root path to your `hw4p1_data` folder in `data: root:`. This will depend on your setup. For eg. if you are following out setup instruction:\n",
        "  - `PSC`: `\"/local/hw4_data/hw4p1_data\"`\n",
        "  - `Colab:`: `\"/content/hw4_data/hw4p1_data\"`\n",
        "  - `Kaggle:`: `\"/kaggle/input/s25-hw4-data/hw4p1_data\"`\n",
        "- There's extra configurations in the `optimizer` section which will only be relevant if you decide to use the `create_optimizer` function we've provided in `hw4lib/utils/create_optimizer.py`.\n",
        "- `BE CAREFUL` while setting numeric values. Eg. `1e-4` will get serialized to a `str` while `1.0e-4` gets serialized to float."
      ]
    },
    {
      "cell_type": "code",
      "execution_count": null,
      "metadata": {
        "id": "pkFcCs6VXWXz"
      },
      "outputs": [],
      "source": [
        "%%writefile config.yaml\n",
        "\n",
        "Name                      : \"Enter-Name-Here\"\n",
        "\n",
        "###### Tokenization ------------------------------------------------------------\n",
        "tokenization:\n",
        "  token_type                : \"5k\"       # [char, 1k, 5k, 10k]\n",
        "  token_map :\n",
        "      'char': 'hw4lib/data/tokenizer_jsons/tokenizer_char.json'\n",
        "      '1k'  : 'hw4lib/data/tokenizer_jsons/tokenizer_1000.json'\n",
        "      '5k'  : 'hw4lib/data/tokenizer_jsons/tokenizer_5000.json'\n",
        "      '10k' : 'hw4lib/data/tokenizer_jsons/tokenizer_10000.json'\n",
        "\n",
        "###### Dataset -----------------------------------------------------------------\n",
        "data:\n",
        "  root                 : \"hw4_data/hw4p2_data\"  # TODO: Set the root path of your data\n",
        "  train_partition      : \"train-clean-100\"  # paired text-speech for ASR pre-training\n",
        "  val_partition        : \"dev-clean\"        # paired text-speech for ASR pre-training\n",
        "  test_partition       : \"test-clean\"       # paired text-speech for ASR pre-training\n",
        "  subset               : 1.0                # Load a subset of the data (for debugging, testing, etc\n",
        "  batch_size           : 16           #\n",
        "  NUM_WORKERS          : 2            # Set to 0 for CPU\n",
        "  norm                 : 'global_mvn' # ['global_mvn', 'cepstral', 'none']\n",
        "  num_feats            : 80\n",
        "\n",
        "  ###### SpecAugment ---------------------------------------------------------------\n",
        "  specaug                   : False  # Set to True if you want to use SpecAugment\n",
        "  specaug_conf:\n",
        "    apply_freq_mask         : True\n",
        "    freq_mask_width_range   : 5\n",
        "    num_freq_mask           : 2\n",
        "    apply_time_mask         : True\n",
        "    time_mask_width_range   : 40\n",
        "    num_time_mask           : 2\n",
        "\n",
        "###### Network Specs -------------------------------------------------------------\n",
        "model: # Encoder-Decoder Transformer (HW4P2)\n",
        "  # Speech embedding parameters\n",
        "  input_dim: 80              # Speech feature dimension\n",
        "  time_reduction: 2          # Time dimension downsampling factor\n",
        "  reduction_method: 'conv'   # The source_embedding reduction method ['lstm', 'conv', 'both']\n",
        "\n",
        "  # Architecture parameters\n",
        "  d_model: 256           # Model dimension\n",
        "  num_encoder_layers: 2  # Number of encoder layers\n",
        "  num_decoder_layers: 2  # Number of decoder layers\n",
        "  num_encoder_heads: 4   # Number of encoder attention heads\n",
        "  num_decoder_heads: 4   # Number of decoder attention heads\n",
        "  d_ff_encoder: 1024     # Feed-forward dimension for encoder\n",
        "  d_ff_decoder: 1024     # Feed-forward dimension for decoder\n",
        "  skip_encoder_pe: False # Whether to skip positional encoding for encoder\n",
        "  skip_decoder_pe: False # Whether to skip positional encoding for decoder\n",
        "\n",
        "  # Common parameters\n",
        "  dropout: 0.0          # Dropout rate\n",
        "  layer_drop_rate: 0.0  # Layer dropout rate\n",
        "  weight_tying: False   # Whether to use weight tying\n",
        "\n",
        "###### Common Training Parameters ------------------------------------------------\n",
        "training:\n",
        "  use_wandb                   : True   # Toggle wandb logging\n",
        "  wandb_run_id                : \"none\" # \"none\" or \"run_id\"\n",
        "  resume                      : True   # Resume an existing run (run_id != 'none')\n",
        "  gradient_accumulation_steps : 1\n",
        "  wandb_project               : \"Set-Project-Name-Here\" # wandb project to log to\n",
        "\n",
        "###### Loss ----------------------------------------------------------------------\n",
        "loss: # Just good ol' CrossEntropy\n",
        "  label_smoothing: 0.0\n",
        "  ctc_weight: 0.2\n",
        "\n",
        "###### Optimizer -----------------------------------------------------------------\n",
        "optimizer:\n",
        "  name: \"adamw\" # Options: sgd, adam, adamw\n",
        "  lr: 0.0004    # Base learning rate\n",
        "\n",
        "  # Common parameters\n",
        "  weight_decay: 0.000001\n",
        "\n",
        "  # Parameter groups\n",
        "  # You can add more param groups as you want and set their learning rates and patterns\n",
        "  param_groups:\n",
        "    - name: self_attn\n",
        "      patterns: []  # Will match all parameters containing \"ffn\" and set their learning rate to 0.0002\n",
        "      lr: 0.0002    # LR for self_attn\n",
        "      layer_decay:\n",
        "        enabled: False\n",
        "        decay_rate: 0.8\n",
        "\n",
        "    - name: ffn\n",
        "      patterns: [] # Will match all parameters containing \"ffn\" and set their learning rate to 0.0002\n",
        "      lr: 0.0002   # LR for ffn\n",
        "      layer_decay:\n",
        "        enabled: False\n",
        "        decay_rate: 0.8\n",
        "\n",
        "  # Layer-wise learning rates\n",
        "  layer_decay:\n",
        "    enabled: False\n",
        "    decay_rate: 0.75\n",
        "\n",
        "  # SGD specific parameters\n",
        "  sgd:\n",
        "    momentum: 0.9\n",
        "    nesterov: True\n",
        "    dampening: 0\n",
        "\n",
        "  # Adam specific parameters\n",
        "  adam:\n",
        "    betas: [0.9, 0.999]\n",
        "    eps: 1.0e-8\n",
        "    amsgrad: False\n",
        "\n",
        "  # AdamW specific parameters\n",
        "  adamw:\n",
        "    betas: [0.9, 0.999]\n",
        "    eps: 1.0e-8\n",
        "    amsgrad: False\n",
        "\n",
        "###### Scheduler -----------------------------------------------------------------\n",
        "scheduler:\n",
        "  name: \"cosine\"  # Options: reduce_lr, cosine, cosine_warm\n",
        "\n",
        "  # ReduceLROnPlateau specific parameters\n",
        "  reduce_lr:\n",
        "    mode: \"min\"  # Options: min, max\n",
        "    factor: 0.1  # Factor to reduce learning rate by\n",
        "    patience: 10  # Number of epochs with no improvement after which LR will be reduced\n",
        "    threshold: 0.0001  # Threshold for measuring the new optimum\n",
        "    threshold_mode: \"rel\"  # Options: rel, abs\n",
        "    cooldown: 0  # Number of epochs to wait before resuming normal operation\n",
        "    min_lr: 0.0000001  # Minimum learning rate\n",
        "    eps: 1e-8  # Minimal decay applied to lr\n",
        "\n",
        "  # CosineAnnealingLR specific parameters\n",
        "  cosine:\n",
        "    T_max: 15  # Maximum number of iterations\n",
        "    eta_min: 0.0000001  # Minimum learning rate\n",
        "    last_epoch: -1\n",
        "\n",
        "  # CosineAnnealingWarmRestarts specific parameters\n",
        "  cosine_warm:\n",
        "    T_0: 10    # Number of iterations for the first restart\n",
        "    T_mult: 10 # Factor increasing T_i after each restart\n",
        "    eta_min: 0.0000001  # Minimum learning rate\n",
        "    last_epoch: -1\n",
        "\n",
        "  # Warmup parameters (can be used with any scheduler)\n",
        "  warmup:\n",
        "    enabled: True\n",
        "    type: \"exponential\"  # Options: linear, exponential\n",
        "    epochs: 5\n",
        "    start_factor: 0.1\n",
        "    end_factor: 1.0\n"
      ]
    },
    {
      "cell_type": "code",
      "execution_count": null,
      "metadata": {
        "id": "ycLt56sWXWXz"
      },
      "outputs": [],
      "source": [
        "with open('config.yaml', 'r') as file:\n",
        "    config = yaml.safe_load(file)"
      ]
    },
    {
      "cell_type": "markdown",
      "metadata": {
        "id": "Lq8X3BcuXWXz"
      },
      "source": [
        "## Tokenizer"
      ]
    },
    {
      "cell_type": "code",
      "execution_count": null,
      "metadata": {
        "id": "gstAD2BGXWXz"
      },
      "outputs": [],
      "source": [
        "Tokenizer = H4Tokenizer(\n",
        "    token_map  = config['tokenization']['token_map'],\n",
        "    token_type = config['tokenization']['token_type']\n",
        ")"
      ]
    },
    {
      "cell_type": "markdown",
      "metadata": {
        "id": "5hCLVwnaXWXz"
      },
      "source": [
        "## Datasets"
      ]
    },
    {
      "cell_type": "code",
      "execution_count": null,
      "metadata": {
        "id": "DwmZydebXWXz"
      },
      "outputs": [],
      "source": [
        "train_dataset = ASRDataset(\n",
        "    partition=config['data']['train_partition'],\n",
        "    config=config['data'],\n",
        "    tokenizer=Tokenizer,\n",
        "    isTrainPartition=True,\n",
        "    global_stats=None  # Will compute stats from training data\n",
        ")\n",
        "\n",
        "# TODO: Get the computed global stats from training set\n",
        "global_stats = None\n",
        "if config['data']['norm'] == 'global_mvn':\n",
        "    global_stats = (train_dataset.global_mean, train_dataset.global_std)\n",
        "    print(f\"Global stats computed from training set.\")\n",
        "\n",
        "val_dataset = ASRDataset(\n",
        "    partition=config['data']['val_partition'],\n",
        "    config=config['data'],\n",
        "    tokenizer=Tokenizer,\n",
        "    isTrainPartition=False,\n",
        "    global_stats=global_stats\n",
        ")\n",
        "\n",
        "test_dataset = ASRDataset(\n",
        "    partition=config['data']['test_partition'],\n",
        "    config=config['data'],\n",
        "    tokenizer=Tokenizer,\n",
        "    isTrainPartition=False,\n",
        "    global_stats=global_stats\n",
        ")\n",
        "\n",
        "gc.collect()"
      ]
    },
    {
      "cell_type": "markdown",
      "metadata": {
        "id": "eAFMrdMLXWXz"
      },
      "source": [
        "## Dataloaders"
      ]
    },
    {
      "cell_type": "code",
      "execution_count": null,
      "metadata": {
        "id": "SGRynmFPXWXz"
      },
      "outputs": [],
      "source": [
        "train_loader    = DataLoader(\n",
        "    dataset     = train_dataset,\n",
        "    batch_size  = config['data']['batch_size'],\n",
        "    shuffle     = True,\n",
        "    num_workers = config['data']['NUM_WORKERS'] if device == 'cuda' else 0,\n",
        "    pin_memory  = True,\n",
        "    collate_fn  = train_dataset.collate_fn\n",
        ")\n",
        "\n",
        "val_loader      = DataLoader(\n",
        "    dataset     = val_dataset,\n",
        "    batch_size  = config['data']['batch_size'],\n",
        "    shuffle     = False,\n",
        "    num_workers = config['data']['NUM_WORKERS'] if device == 'cuda' else 0,\n",
        "    pin_memory  = True,\n",
        "    collate_fn  = val_dataset.collate_fn\n",
        ")\n",
        "\n",
        "test_loader     = DataLoader(\n",
        "    dataset     = test_dataset,\n",
        "    batch_size  = config['data']['batch_size'],\n",
        "    shuffle     = False,\n",
        "    num_workers = config['data']['NUM_WORKERS'] if device == 'cuda' else 0,\n",
        "    pin_memory  = True,\n",
        "    collate_fn  = test_dataset.collate_fn\n",
        ")\n",
        "\n",
        "gc.collect()"
      ]
    },
    {
      "cell_type": "markdown",
      "metadata": {
        "id": "6YILqrSuXWX0"
      },
      "source": [
        "### Dataloader Verification"
      ]
    },
    {
      "cell_type": "code",
      "execution_count": null,
      "metadata": {
        "id": "awodg0EWXWX0"
      },
      "outputs": [],
      "source": [
        "verify_dataloader(train_loader)"
      ]
    },
    {
      "cell_type": "code",
      "execution_count": null,
      "metadata": {
        "id": "rPNijuHBXWX0"
      },
      "outputs": [],
      "source": [
        "verify_dataloader(val_loader)"
      ]
    },
    {
      "cell_type": "code",
      "execution_count": null,
      "metadata": {
        "id": "NYjQOBj2XWX0"
      },
      "outputs": [],
      "source": [
        "verify_dataloader(test_loader)"
      ]
    },
    {
      "cell_type": "markdown",
      "metadata": {
        "id": "F8_T2fH3XWX0"
      },
      "source": [
        "## Calculate Max Lengths\n",
        "Calculating the maximum transcript length across your dataset is a crucial step when working with certain transformer models.\n",
        "-  We'll use sinusoidal positional encodings that must be precomputed up to a fixed maximum length.\n",
        "- This maximum length is a hyperparameter that determines:\n",
        "  - How long of a sequence your model can process\n",
        "  - The size of your positional encoding matrix\n",
        "  - Memory requirements during training and inference\n",
        "- `Requirements`: For this assignment, ensure your positional encodings can accommodate at least the longest sequence in your dataset to prevent truncation. However, you can set this value higher if you anticipate using your languagemodel to work with longer sequences in future tasks (hint: this might be useful for P2! 😉).\n",
        "- `NOTE`: We'll be using the same positional encoding matrix for all sequences in your dataset. Take this into account when setting your maximum length."
      ]
    },
    {
      "cell_type": "code",
      "execution_count": null,
      "metadata": {
        "id": "guY_wgFjXWX0"
      },
      "outputs": [],
      "source": [
        "max_feat_len       = max(train_dataset.feat_max_len, val_dataset.feat_max_len, test_dataset.feat_max_len)\n",
        "max_transcript_len = max(train_dataset.text_max_len, val_dataset.text_max_len, test_dataset.text_max_len)\n",
        "max_len            = max(max_feat_len, max_transcript_len)\n",
        "\n",
        "print(\"=\"*50)\n",
        "print(f\"{'Max Feature Length':<30} : {max_feat_len}\")\n",
        "print(f\"{'Max Transcript Length':<30} : {max_transcript_len}\")\n",
        "print(f\"{'Overall Max Length':<30} : {max_len}\")\n",
        "print(\"=\"*50)"
      ]
    },
    {
      "cell_type": "markdown",
      "metadata": {
        "id": "zmryM_AHXWX0"
      },
      "source": [
        "## Wandb"
      ]
    },
    {
      "cell_type": "code",
      "execution_count": null,
      "metadata": {
        "id": "5fEQ0Ns_XWX0"
      },
      "outputs": [],
      "source": [
        "wandb.login(key=\"your_wandb_api_key_here\")"
      ]
    },
    {
      "cell_type": "markdown",
      "metadata": {
        "id": "ZXcjkHQ_XWX0"
      },
      "source": [
        "## Training\n",
        "Every time you run the trainer, it will create a new directory in the `expts` folder with the following structure:\n",
        "```\n",
        "expts/\n",
        "    └── {run_name}/\n",
        "        ├── config.yaml\n",
        "        ├── model_arch.txt\n",
        "        ├── checkpoints/\n",
        "        │   ├── checkpoint-best-metric-model.pth\n",
        "        │   └── checkpoint-last-epoch-model.pth\n",
        "        ├── attn/\n",
        "        │   └── {attention visualizations}\n",
        "        └── text/\n",
        "            └── {generated text outputs}\n",
        "```\n"
      ]
    },
    {
      "cell_type": "markdown",
      "metadata": {
        "id": "DS7fwKk5XWX0"
      },
      "source": [
        "### Training Strategy 1: Cold-Start Trainer"
      ]
    },
    {
      "cell_type": "markdown",
      "metadata": {
        "id": "B-y9NyN4XWX0"
      },
      "source": [
        "#### Model Load (Default)"
      ]
    },
    {
      "cell_type": "code",
      "execution_count": null,
      "metadata": {
        "id": "CTSjyngVXWX0"
      },
      "outputs": [],
      "source": [
        "model_config = config['model'].copy()\n",
        "model_config.update({\n",
        "    'max_len': max_len,\n",
        "    'num_classes': Tokenizer.vocab_size\n",
        "})\n",
        "\n",
        "model = EncoderDecoderTransformer(**model_config)\n",
        "\n",
        "# Get some inputs from the train dataloader\n",
        "for batch in train_loader:\n",
        "    padded_feats, padded_shifted, padded_golden, feat_lengths, transcript_lengths = batch\n",
        "    break\n",
        "\n",
        "\n",
        "model_stats = summary(model, input_data=[padded_feats, padded_shifted, feat_lengths, transcript_lengths])\n",
        "print(model_stats)"
      ]
    },
    {
      "cell_type": "markdown",
      "metadata": {
        "id": "FN6wc57eXWX1"
      },
      "source": [
        "#### Initialize Trainer\n",
        "\n",
        "If you need to reload the model from a checkpoint, you can do so by calling the `load_checkpoint` method.\n",
        "\n",
        "```python\n",
        "checkpoint_path = \"path/to/checkpoint.pth\"\n",
        "trainer.load_checkpoint(checkpoint_path)\n",
        "```\n"
      ]
    },
    {
      "cell_type": "code",
      "execution_count": null,
      "metadata": {
        "id": "1eg-NsHzXWX1"
      },
      "outputs": [],
      "source": [
        "trainer = ASRTrainer(\n",
        "    model=model,\n",
        "    tokenizer=Tokenizer,\n",
        "    config=config,\n",
        "    run_name=\"add_run_name\",\n",
        "    config_file=\"config.yaml\",\n",
        "    device=device\n",
        ")"
      ]
    },
    {
      "cell_type": "markdown",
      "metadata": {
        "id": "qiQSYD7jXWX1"
      },
      "source": [
        "### Setup Optimizer and Scheduler\n",
        "\n",
        "You can set your own optimizer and scheduler by setting the class members in the `LMTrainer` class.\n",
        "Eg:\n",
        "```python\n",
        "trainer.optimizer = optim.AdamW(model.parameters(), lr=config['optimizer']['lr'], weight_decay=config['optimizer']['weight_decay'])\n",
        "trainer.scheduler = optim.lr_scheduler.CosineAnnealingLR(trainer.optimizer, T_max=config['training']['epochs'])\n",
        "```\n",
        "\n",
        "We also provide a utility function to create your own optimizer and scheduler with the congig and some extra bells and whistles. You are free to use it or not. Do read their code and documentation to understand how it works (`hw4lib/utils/*`).\n"
      ]
    },
    {
      "cell_type": "markdown",
      "metadata": {
        "id": "M_IQUFhmXWX1"
      },
      "source": [
        "#### Setting up the optimizer"
      ]
    },
    {
      "cell_type": "code",
      "execution_count": null,
      "metadata": {
        "id": "F1mMBVjrXWX1"
      },
      "outputs": [],
      "source": [
        "trainer.optimizer = create_optimizer(\n",
        "    model=model,\n",
        "    opt_config=config['optimizer']\n",
        ")"
      ]
    },
    {
      "cell_type": "markdown",
      "metadata": {
        "id": "_h4o2qWEXWX1"
      },
      "source": [
        "#### Creating a test scheduler and plotting the learning rate schedule"
      ]
    },
    {
      "cell_type": "code",
      "execution_count": null,
      "metadata": {
        "id": "ilPlvS6EXWX1"
      },
      "outputs": [],
      "source": [
        "test_scheduler = create_scheduler(\n",
        "    optimizer=trainer.optimizer,\n",
        "    scheduler_config=config['scheduler'],\n",
        "    train_loader=train_loader,\n",
        "    gradient_accumulation_steps=config['training']['gradient_accumulation_steps']\n",
        ")\n",
        "\n",
        "plot_lr_schedule(\n",
        "    scheduler=test_scheduler,\n",
        "    num_epochs=20,\n",
        "    train_loader=train_loader,\n",
        "    gradient_accumulation_steps=config['training']['gradient_accumulation_steps']\n",
        ")"
      ]
    },
    {
      "cell_type": "markdown",
      "metadata": {
        "id": "m1qQK403XWX1"
      },
      "source": [
        "#### Setting up the scheduler"
      ]
    },
    {
      "cell_type": "code",
      "execution_count": null,
      "metadata": {
        "id": "H3-MTweSXWX2"
      },
      "outputs": [],
      "source": [
        "trainer.scheduler = create_scheduler(\n",
        "    optimizer=trainer.optimizer,\n",
        "    scheduler_config=config['scheduler'],\n",
        "    train_loader=train_loader,\n",
        "    gradient_accumulation_steps=config['training']['gradient_accumulation_steps']\n",
        ")"
      ]
    },
    {
      "cell_type": "markdown",
      "metadata": {
        "id": "9y3ASKqWXWX2"
      },
      "source": [
        "#### Train\n",
        "- Set your epochs"
      ]
    },
    {
      "cell_type": "code",
      "execution_count": null,
      "metadata": {
        "id": "bKCzg3U8XWX2"
      },
      "outputs": [],
      "source": [
        "trainer.train(train_loader, val_loader, epochs=10)"
      ]
    },
    {
      "cell_type": "markdown",
      "metadata": {
        "id": "m9o7QclnXWX2"
      },
      "source": [
        "#### Inference\n"
      ]
    },
    {
      "cell_type": "code",
      "execution_count": null,
      "metadata": {
        "id": "bmtZ3E46N0Kt"
      },
      "outputs": [],
      "source": [
        "# Define the recognition config: Greedy search\n",
        "recognition_config = {\n",
        "    'num_batches': None,\n",
        "    'temperature': 1.0,\n",
        "    'repeat_penalty': 1.0,\n",
        "    'lm_weight': None,\n",
        "    'lm_model': None,\n",
        "    'beam_width': 1, # Beam width of 1 reverts to greedy\n",
        "}\n",
        "\n",
        "# Recognize with the shallow fusion config\n",
        "config_name = \"test\"\n",
        "print(f\"Evaluating with {config_name} config\")\n",
        "results = trainer.recognize(test_loader, recognition_config, config_name=config_name, max_length=max_transcript_len)\n",
        "\n",
        "\n",
        "# Calculate metrics on full batch\n",
        "generated = [r['generated'] for r in results]\n",
        "results_df = pd.DataFrame(\n",
        "    {\n",
        "        'id': range(len(generated)),\n",
        "        'transcription': generated\n",
        "    }\n",
        ")\n",
        "\n",
        "# Cleanup (Will end wandb run)\n",
        "trainer.cleanup()"
      ]
    },
    {
      "cell_type": "markdown",
      "metadata": {
        "id": "Srfle5jUeGYA"
      },
      "source": [
        "## Submit to Kaggle"
      ]
    },
    {
      "cell_type": "markdown",
      "metadata": {},
      "source": [
        "### Authenticate Kaggle\n",
        "In order to use the Kaggle’s public API, you must first authenticate using an API token. Go to the 'Account' tab of your user profile and select 'Create New Token'. This will trigger the download of kaggle.json, a file containing your API credentials.\n",
        "- `TODO`: Set your kaggle username and api key here based on the API credentials listed in the kaggle.json\n",
        "\n",
        "\n"
      ]
    },
    {
      "cell_type": "code",
      "execution_count": null,
      "metadata": {},
      "outputs": [],
      "source": [
        "import os\n",
        "os.environ[\"KAGGLE_USERNAME\"] = \"your_kaggle_username_here\"\n",
        "os.environ[\"KAGGLE_KEY\"] = \"your_kaggle_api_key_here\""
      ]
    },
    {
      "cell_type": "code",
      "execution_count": null,
      "metadata": {
        "id": "jFRZqdazOfZt"
      },
      "outputs": [],
      "source": [
        "results_df.head()"
      ]
    },
    {
      "cell_type": "markdown",
      "metadata": {},
      "source": [
        "### Submit"
      ]
    },
    {
      "cell_type": "code",
      "execution_count": null,
      "metadata": {
        "id": "bqWwBD6kO0Zf"
      },
      "outputs": [],
      "source": [
        "results_df.to_csv(\"results.csv\", index=False)\n",
        "!kaggle competitions submit -c 11785-s25-hw4p2-asr -f results.csv -m \"My Submission\""
      ]
    }
  ],
  "metadata": {
    "accelerator": "GPU",
    "colab": {
      "collapsed_sections": [
        "T1K8ZJzQXWXm",
        "dqzcpqG0XWXp",
        "uP0Aucc7XWXs",
        "k5ey-Nd0XWXx"
      ],
      "gpuType": "A100",
      "machine_shape": "hm",
      "provenance": []
    },
    "kernelspec": {
      "display_name": "Python 3",
      "name": "python3"
    },
    "language_info": {
      "codemirror_mode": {
        "name": "ipython",
        "version": 3
      },
      "file_extension": ".py",
      "mimetype": "text/x-python",
      "name": "python",
      "nbconvert_exporter": "python",
      "pygments_lexer": "ipython3",
      "version": "3.12.4"
    }
  },
  "nbformat": 4,
  "nbformat_minor": 0
}
