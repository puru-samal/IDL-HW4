{
 "cells": [
  {
   "cell_type": "markdown",
   "metadata": {},
   "source": [
    "# Imports"
   ]
  },
  {
   "cell_type": "code",
   "execution_count": 1,
   "metadata": {},
   "outputs": [],
   "source": [
    "from hw4lib.data import (\n",
    "    H4Tokenizer,\n",
    "    ASRDataset,\n",
    "    verify_dataloader\n",
    ")"
   ]
  },
  {
   "cell_type": "markdown",
   "metadata": {},
   "source": [
    "# Implementations\n",
    "- `NOTE`: All of these implementations have detailed specification, implementation details, and hints in their respective source files. Make sure to read all of them in their entirety to understand the implementation details!"
   ]
  },
  {
   "cell_type": "markdown",
   "metadata": {},
   "source": [
    "## Dataset Implementation\n",
    "- `TODO`: Implement the `ASRDataset` class in `hw4lib/data/asr_dataset.py`. \n",
    "- You will have to implement parts of `__init__` and completely implement the `__len__`, `__getitem__` and `collate_fn` methods. \n",
    "- `TODO`: Then run the cell below to check your implementation.\n"
   ]
  },
  {
   "cell_type": "code",
   "execution_count": 2,
   "metadata": {},
   "outputs": [
    {
     "name": "stdout",
     "output_type": "stream",
     "text": [
      "Loading data for train-clean-100 partition...\n",
      "100%|██████████████████████████████████████████| 28/28 [00:00<00:00, 463.41it/s]\n",
      "Loading data for test-clean partition...\n",
      "100%|███████████████████████████████████████████| 2/2 [00:00<00:00, 1362.23it/s]\n",
      "\n",
      "\u001b[95m================================================================================\n",
      "Running tests for category: ASRDataset Train\n",
      "--------------------------------------------------------------------------------\u001b[0m\n",
      "\n",
      "\u001b[94m[01/01]    Running:  Test a Train instance of ASRDataset class\u001b[0m\n",
      "Testing __init__ method ...\n",
      "Test Passed: Dataset length matches FBANK files.\n",
      "Test Passed: Dataset length matches TRANSCRIPT files.\n",
      "Test Passed: Order alignment between FBANK files and TRANSCRIPT files is correct.\n",
      "Test Passed: Alignment between features and transcripts is correct.\n",
      "Test Passed: All features have the correct number of dimensions (num_feats).\n",
      "Test Passed: All transcripts are decoded correctly after removing SOS and EOS tokens.\n",
      "Testing __getitem__ method ...\n",
      "Test Passed: All samples have correct feature dimensions and transcript alignment.\n",
      "Testing collate_fn method ...\n",
      "Test Passed: Feature batch has correct dimensions (3D tensor).\n",
      "Test Passed: All sequences are padded to the same length.\n",
      "Test Passed: All transcripts are padded to the same length.\n",
      "Test Passed: Padding values are correct.\n",
      "\u001b[92m[01/01]    PASSED:   Test a Train instance of ASRDataset class\u001b[0m\n",
      "\n",
      "\n",
      "\u001b[95m================================================================================\n",
      "Running tests for category: ASRDataset Test\n",
      "--------------------------------------------------------------------------------\u001b[0m\n",
      "\n",
      "\u001b[94m[01/01]    Running:  Test a Test instance of ASRDataset class\u001b[0m\n",
      "Testing __init__ method ...\n",
      "Test Passed: Dataset length matches FBANK files.\n",
      "Test Passed: All features have the correct number of dimensions (num_feats).\n",
      "Testing __getitem__ method ...\n",
      "Test Passed: Transcripts are None for 'test-clean' at index 0.\n",
      "Test Passed: Transcripts are None for 'test-clean' at index 1.\n",
      "Test Passed: All samples have correct feature dimensions and transcript alignment.\n",
      "Testing collate_fn method ...\n",
      "Test Passed: Feature batch has correct dimensions (3D tensor).\n",
      "Test Passed: All sequences are padded to the same length.\n",
      "Test Passed: Transcripts and lengths are correctly set to None for 'test-clean'.\n",
      "\u001b[92m[01/01]    PASSED:   Test a Test instance of ASRDataset class\u001b[0m\n",
      "\n",
      "\n",
      "\u001b[95m================================================================================\n",
      "                                  Test Summary                                  \n",
      "================================================================================\u001b[0m\n",
      "\u001b[93mCategory:    ASRDataset Train              \n",
      "Results:     1/1 tests passed (100.0%)\u001b[0m\n",
      "\u001b[93mCategory:    ASRDataset Test               \n",
      "Results:     1/1 tests passed (100.0%)\u001b[0m\n"
     ]
    }
   ],
   "source": [
    "!python -m tests.test_dataset_asr\n"
   ]
  },
  {
   "cell_type": "markdown",
   "metadata": {},
   "source": [
    "## Model Implementations\n",
    "\n",
    "- `TODO`: Implement the `CrossAttentionLayer` class in `hw4lib/model/sublayers.py`.\n",
    "- `TODO`: Implement the `CrossAttentionDecoderLayer` class in `hw4lib/model/decoder_layers.py`.\n",
    "- `TODO`: Implement the `SelfAttentionEncoderLayer` class in `hw4lib/model/encoder_layers.py`. This will be mostly a copy-paste of the `SelfAttentionDecoderLayer` class in `hw4lib/model/decoder_layers.py` with one minor diffrence: it can attend to all positions in the input sequence.\n",
    "- `TODO`: Implement the `EncoderDecoderTransformer` class in `hw4lib/model/transformers.py`."
   ]
  },
  {
   "cell_type": "markdown",
   "metadata": {},
   "source": [
    "### Transformer Sublayers\n",
    "- `TODO`: Now, Implement the `CrossAttentionLayer` class in `hw4lib/model/sublayers.py`.\n",
    "- `NOTE`: You should have already implemented the `SelfAttentionLayer`, and `FeedForwardLayer` classes in `hw4lib/model/sublayers.py`.\n",
    "- `TODO`: Then run the cell below to check your implementation."
   ]
  },
  {
   "cell_type": "code",
   "execution_count": 3,
   "metadata": {},
   "outputs": [
    {
     "name": "stdout",
     "output_type": "stream",
     "text": [
      "\n",
      "\u001b[95m================================================================================\n",
      "Running tests for category: CrossAttentionLayer\n",
      "--------------------------------------------------------------------------------\u001b[0m\n",
      "\n",
      "\u001b[94m[01/01]    Running:  Test the cross-attention sublayer\u001b[0m\n",
      "Testing initialization ...\n",
      "Test Passed: All layers exist and are instantiated correctly\n",
      "Testing forward shapes ...\n",
      "Test Passed: Forward pass returns the correct shapes\n",
      "Testing padding mask behaviour ...\n",
      "Test Passed: Padding mask is applied correctly\n",
      "Testing cross-attention behaviour ...\n",
      "Test Passed: Cross-attention behavior is correct\n",
      "Testing residual connection ...\n",
      "Test Passed: Residual connection is applied correctly\n",
      "\u001b[92m[01/01]    PASSED:   Test the cross-attention sublayer\u001b[0m\n",
      "\n",
      "\n",
      "\u001b[95m================================================================================\n",
      "                                  Test Summary                                  \n",
      "================================================================================\u001b[0m\n",
      "\u001b[93mCategory:    CrossAttentionLayer           \n",
      "Results:     1/1 tests passed (100.0%)\u001b[0m\n"
     ]
    }
   ],
   "source": [
    "!python -m tests.test_sublayer_crossattention"
   ]
  },
  {
   "cell_type": "markdown",
   "metadata": {},
   "source": [
    "### Transformer Cross-Attention Decoder Layer\n",
    "- `TODO`: Implement the `CrossAttentionDecoderLayer` class in `hw4lib/model/decoder_layers.py`.\n",
    "- `TODO`: Then run the cell below to check your implementation.\n"
   ]
  },
  {
   "cell_type": "code",
   "execution_count": 4,
   "metadata": {},
   "outputs": [
    {
     "name": "stdout",
     "output_type": "stream",
     "text": [
      "\n",
      "\u001b[95m================================================================================\n",
      "Running tests for category: CrossAttentionDecoderLayer\n",
      "--------------------------------------------------------------------------------\u001b[0m\n",
      "\n",
      "\u001b[94m[01/01]    Running:  Test the cross-attention decoder layer\u001b[0m\n",
      "Testing initialization ...\n",
      "Test Passed: All sublayers exist and are initialized correctly\n",
      "Testing forward shapes ...\n",
      "Test Passed: Forward shapes are as expected\n",
      "Testing sublayer integration ...\n",
      "Test Passed: Sublayers interact correctly\n",
      "Testing cross-attention behavior ...\n",
      "Test Passed: Cross-attention behaves correctly\n",
      "\u001b[92m[01/01]    PASSED:   Test the cross-attention decoder layer\u001b[0m\n",
      "\n",
      "\n",
      "\u001b[95m================================================================================\n",
      "                                  Test Summary                                  \n",
      "================================================================================\u001b[0m\n",
      "\u001b[93mCategory:    CrossAttentionDecoderLayer    \n",
      "Results:     1/1 tests passed (100.0%)\u001b[0m\n"
     ]
    }
   ],
   "source": [
    "!python -m tests.test_decoderlayer_crossattention"
   ]
  },
  {
   "cell_type": "markdown",
   "metadata": {},
   "source": [
    "### Transformer Self-Attention Encoder Layer\n",
    "- `TODO`: Implement the `SelfAttentionEncoderLayer` class in `hw4lib/model/encoder_layers.py`.\n",
    "- `TODO`: Then run the cell below to check your implementation.\n",
    "\n",
    "\n"
   ]
  },
  {
   "cell_type": "code",
   "execution_count": 5,
   "metadata": {},
   "outputs": [
    {
     "name": "stdout",
     "output_type": "stream",
     "text": [
      "\n",
      "\u001b[95m================================================================================\n",
      "Running tests for category: SelfAttentionEncoderLayer\n",
      "--------------------------------------------------------------------------------\u001b[0m\n",
      "\n",
      "\u001b[94m[01/01]    Running:  Test the self-attention encoder layer\u001b[0m\n",
      "Testing initialization ...\n",
      "Test Passed: All sublayers exist and are initialized correctly\n",
      "Testing forward shapes ...\n",
      "Test Passed: Forward shapes are as expected\n",
      "Testing sublayer interaction ...\n",
      "Test Passed: Sublayers interact correctly\n",
      "Testing bidirectional attention ...\n",
      "Test Passed: Bidirectional attention is working correctly\n",
      "\u001b[92m[01/01]    PASSED:   Test the self-attention encoder layer\u001b[0m\n",
      "\n",
      "\n",
      "\u001b[95m================================================================================\n",
      "                                  Test Summary                                  \n",
      "================================================================================\u001b[0m\n",
      "\u001b[93mCategory:    SelfAttentionEncoderLayer     \n",
      "Results:     1/1 tests passed (100.0%)\u001b[0m\n"
     ]
    }
   ],
   "source": [
    "!python -m tests.test_encoderlayer_selfattention"
   ]
  },
  {
   "cell_type": "markdown",
   "metadata": {},
   "source": [
    "### Encoder-Decoder Transformer\n",
    "\n",
    "- `TODO`: Implement the  `EncoderDecoderTransformer` class in `hw4lib/model/transformers.py`.\n",
    "- `TODO`: Then run the cell below to check your implementation."
   ]
  },
  {
   "cell_type": "code",
   "execution_count": 6,
   "metadata": {},
   "outputs": [
    {
     "name": "stdout",
     "output_type": "stream",
     "text": [
      "\n",
      "\u001b[95m================================================================================\n",
      "Running tests for category: EncoderDecoderTransformer\n",
      "--------------------------------------------------------------------------------\u001b[0m\n",
      "\n",
      "\u001b[94m[01/01]    Running:  Test the encoder-decoder transformer\u001b[0m\n",
      "Testing initialization...\n",
      "Test Passed: All components initialized correctly\n",
      "Testing encode method...\n",
      "Test Passed: Encode method works correctly\n",
      "Testing decode method...\n",
      "Test Passed: Decode method works correctly\n",
      "Testing forward pass...\n",
      "Test Passed: Forward pass works correctly\n",
      "Testing encoder-decoder integration...\n",
      "Test Passed: Encoder-decoder integration works correctly\n",
      "Testing CTC integration...\n",
      "Test Passed: CTC integration works correctly\n",
      "Testing forward propagation order...\n",
      "Test Passed: Forward propagation order is correct\n",
      "\u001b[92m[01/01]    PASSED:   Test the encoder-decoder transformer\u001b[0m\n",
      "\n",
      "\n",
      "\u001b[95m================================================================================\n",
      "                                  Test Summary                                  \n",
      "================================================================================\u001b[0m\n",
      "\u001b[93mCategory:    EncoderDecoderTransformer     \n",
      "Results:     1/1 tests passed (100.0%)\u001b[0m\n"
     ]
    }
   ],
   "source": [
    "!python -m tests.test_transformer_encoder_decoder"
   ]
  },
  {
   "cell_type": "markdown",
   "metadata": {},
   "source": [
    "## Decoding Implementations \n",
    "- `TODO`: We highly recommend you to implement the `generate_beam` method of the `SequenceGenerator` class in `hw4lib/decoding/sequence_generator.py`.\n",
    "- `TODO`: Then run the cell below to check your implementation.\n",
    "- `NOTE`: This is an optional but highly recommended task for `HW4P2` to ease the journey to high cutoffs!"
   ]
  },
  {
   "cell_type": "code",
   "execution_count": 7,
   "metadata": {},
   "outputs": [
    {
     "name": "stdout",
     "output_type": "stream",
     "text": [
      "\n",
      "\u001b[95m================================================================================\n",
      "Running tests for category: Decoding\n",
      "--------------------------------------------------------------------------------\u001b[0m\n",
      "\n",
      "\u001b[94m[01/01]    Running:  Test beam decoding\u001b[0m\n",
      "Testing Single Batch Beam Search ...\n",
      "Beam 0  : generated: HELLO WORLD  | expected: HELLO WORLD \n",
      "Beam 1  : generated: YELLOW WORLD | expected: YELLOW WORLD\n",
      "Beam 2  : generated: MELLOW WORLD | expected: MELLOW WORLD\n",
      "Testing Multi Batch Beam Search ...\n",
      "Batch 0  : Beam 0  : generated: HELLO WORLD  | expected: HELLO WORLD \n",
      "Batch 0  : Beam 1  : generated: YELLOW WORLD | expected: YELLOW WORLD\n",
      "Batch 0  : Beam 2  : generated: MELLOW WORLD | expected: MELLOW WORLD\n",
      "Batch 1  : Beam 0  : generated: GOOD BYE     | expected: GOOD BYE    \n",
      "Batch 1  : Beam 1  : generated: GREAT DAY    | expected: GREAT DAY   \n",
      "Batch 1  : Beam 2  : generated: GUD NIGHT    | expected: GUD NIGHT   \n",
      "\u001b[92m[01/01]    PASSED:   Test beam decoding\u001b[0m\n",
      "\n",
      "\n",
      "\u001b[95m================================================================================\n",
      "                                  Test Summary                                  \n",
      "================================================================================\u001b[0m\n",
      "\u001b[93mCategory:    Decoding                      \n",
      "Results:     1/1 tests passed (100.0%)\u001b[0m\n"
     ]
    }
   ],
   "source": [
    "!python -m tests.test_decoding --mode beam  "
   ]
  },
  {
   "cell_type": "markdown",
   "metadata": {},
   "source": [
    "# Experiments"
   ]
  }
 ],
 "metadata": {
  "kernelspec": {
   "display_name": "base",
   "language": "python",
   "name": "python3"
  },
  "language_info": {
   "codemirror_mode": {
    "name": "ipython",
    "version": 3
   },
   "file_extension": ".py",
   "mimetype": "text/x-python",
   "name": "python",
   "nbconvert_exporter": "python",
   "pygments_lexer": "ipython3",
   "version": "3.12.4"
  }
 },
 "nbformat": 4,
 "nbformat_minor": 2
}
